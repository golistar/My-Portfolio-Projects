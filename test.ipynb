{
 "cells": [
  {
   "cell_type": "code",
   "execution_count": 25,
   "metadata": {},
   "outputs": [
    {
     "name": "stdout",
     "output_type": "stream",
     "text": [
      "Requirement already satisfied: pandas in c:\\users\\pc\\appdata\\local\\programs\\python\\python312\\lib\\site-packages (2.2.3)\n",
      "Requirement already satisfied: numpy in c:\\users\\pc\\appdata\\local\\programs\\python\\python312\\lib\\site-packages (2.2.2)\n",
      "Requirement already satisfied: python-dateutil>=2.8.2 in c:\\users\\pc\\appdata\\roaming\\python\\python312\\site-packages (from pandas) (2.9.0.post0)\n",
      "Requirement already satisfied: pytz>=2020.1 in c:\\users\\pc\\appdata\\local\\programs\\python\\python312\\lib\\site-packages (from pandas) (2025.1)\n",
      "Requirement already satisfied: tzdata>=2022.7 in c:\\users\\pc\\appdata\\local\\programs\\python\\python312\\lib\\site-packages (from pandas) (2025.1)\n",
      "Requirement already satisfied: six>=1.5 in c:\\users\\pc\\appdata\\roaming\\python\\python312\\site-packages (from python-dateutil>=2.8.2->pandas) (1.17.0)\n",
      "Note: you may need to restart the kernel to use updated packages.\n"
     ]
    },
    {
     "name": "stderr",
     "output_type": "stream",
     "text": [
      "\n",
      "[notice] A new release of pip is available: 23.2.1 -> 25.0.1\n",
      "[notice] To update, run: python.exe -m pip install --upgrade pip\n"
     ]
    }
   ],
   "source": [
    "pip install pandas numpy"
   ]
  },
  {
   "cell_type": "code",
   "execution_count": 26,
   "metadata": {},
   "outputs": [],
   "source": [
    "import pandas as pd\n",
    "import numpy as np"
   ]
  },
  {
   "cell_type": "markdown",
   "metadata": {},
   "source": [
    "#### Reading data\n",
    "This code uses the pandas library to read a CSV file.\n",
    "The `pd.read_csv` function loads the CSV file into a **DataFrame** (a tabular structure that can be analyzed and processed) and stores it in the variable `data`. This variable can now be used for further data analysis."
   ]
  },
  {
   "cell_type": "code",
   "execution_count": 27,
   "metadata": {},
   "outputs": [
    {
     "name": "stderr",
     "output_type": "stream",
     "text": [
      "<>:1: SyntaxWarning: invalid escape sequence '\\d'\n",
      "<>:1: SyntaxWarning: invalid escape sequence '\\d'\n",
      "C:\\Users\\PC\\AppData\\Local\\Temp\\ipykernel_228\\1925568579.py:1: SyntaxWarning: invalid escape sequence '\\d'\n",
      "  df = pd.read_csv('E:\\data analyst\\ALEX\\layoffs with python\\layoffs.csv')\n"
     ]
    }
   ],
   "source": [
    "df = pd.read_csv('E:\\data analyst\\ALEX\\layoffs with python\\layoffs.csv')"
   ]
  },
  {
   "cell_type": "markdown",
   "metadata": {},
   "source": [
    "In this code, df is a variable that stores the content of the CSV file after being read by the pd.read_csv function. It is a DataFrame, which is one of the core data structures in the pandas library.\n",
    "\n",
    "#### Key Features of df:\n",
    "1. Tabular Format: A DataFrame organizes data into rows and columns, similar to an Excel spreadsheet or a SQL table.\n",
    "2. Access and Manipulation: You can easily access, manipulate, and analyze the data stored in data. \n",
    "3. Columns and Rows: Each column represents a specific feature or attribute, while each row represents a record or observation.\n"
   ]
  },
  {
   "cell_type": "code",
   "execution_count": 28,
   "metadata": {},
   "outputs": [
    {
     "data": {
      "application/vnd.microsoft.datawrangler.viewer.v0+json": {
       "columns": [
        {
         "name": "index",
         "rawType": "int64",
         "type": "integer"
        },
        {
         "name": "company",
         "rawType": "object",
         "type": "string"
        },
        {
         "name": "location",
         "rawType": "object",
         "type": "string"
        },
        {
         "name": "industry",
         "rawType": "object",
         "type": "unknown"
        },
        {
         "name": "total_laid_off",
         "rawType": "float64",
         "type": "float"
        },
        {
         "name": "percentage_laid_off",
         "rawType": "float64",
         "type": "float"
        },
        {
         "name": "date",
         "rawType": "object",
         "type": "unknown"
        },
        {
         "name": "stage",
         "rawType": "object",
         "type": "unknown"
        },
        {
         "name": "country",
         "rawType": "object",
         "type": "string"
        },
        {
         "name": "funds_raised_millions",
         "rawType": "float64",
         "type": "float"
        }
       ],
       "conversionMethod": "pd.DataFrame",
       "ref": "f3396e66-60c8-46ec-9d6b-f7edc3aa052b",
       "rows": [
        [
         "0",
         "Atlassian",
         "Sydney",
         "Other",
         "500.0",
         "0.05",
         "3/6/2023",
         "Post-IPO",
         "Australia",
         "210.0"
        ],
        [
         "1",
         "SiriusXM",
         "New York City",
         "Media",
         "475.0",
         "0.08",
         "3/6/2023",
         "Post-IPO",
         "United States",
         "525.0"
        ],
        [
         "2",
         "Alerzo",
         "Ibadan",
         "Retail",
         "400.0",
         null,
         "3/6/2023",
         "Series B",
         "Nigeria",
         "16.0"
        ],
        [
         "3",
         "UpGrad",
         "Mumbai",
         "Education",
         "120.0",
         null,
         "3/6/2023",
         "Unknown",
         "India",
         "631.0"
        ],
        [
         "4",
         "Loft",
         "Sao Paulo",
         "Real Estate",
         "340.0",
         "0.15",
         "3/3/2023",
         "Unknown",
         "Brazil",
         "788.0"
        ],
        [
         "5",
         "Embark Trucks",
         "SF Bay Area",
         "Transportation",
         "230.0",
         "0.7",
         "3/3/2023",
         "Post-IPO",
         "United States",
         "317.0"
        ],
        [
         "6",
         "Lendi",
         "Sydney",
         "Real Estate",
         "100.0",
         null,
         "3/3/2023",
         "Unknown",
         "Australia",
         "59.0"
        ],
        [
         "7",
         "UserTesting",
         "SF Bay Area",
         "Marketing",
         "63.0",
         null,
         "3/3/2023",
         "Acquired",
         "United States",
         "152.0"
        ],
        [
         "8",
         "Airbnb",
         "SF Bay Area",
         null,
         "30.0",
         null,
         "3/3/2023",
         "Post-IPO",
         "United States",
         "6400.0"
        ],
        [
         "9",
         "Accolade",
         "Seattle",
         "Healthcare",
         null,
         null,
         "3/3/2023",
         "Post-IPO",
         "United States",
         "458.0"
        ],
        [
         "10",
         "Indigo",
         "Boston",
         "Other",
         null,
         null,
         "3/3/2023",
         "Series F",
         "United States.",
         "1200.0"
        ],
        [
         "11",
         "Zscaler",
         "SF Bay Area",
         "Security",
         "177.0",
         "0.03",
         "3/2/2023",
         "Post-IPO",
         "United States",
         "148.0"
        ],
        [
         "12",
         "MasterClass",
         "SF Bay Area",
         "Education",
         "79.0",
         null,
         "3/2/2023",
         "Series E",
         "United States",
         "461.0"
        ],
        [
         "13",
         "Ambev Tech",
         "Blumenau",
         "Food",
         "50.0",
         null,
         "3/2/2023",
         "Acquired",
         "Brazil",
         null
        ],
        [
         "14",
         "Fittr",
         "Pune",
         "Fitness",
         "30.0",
         "0.11",
         "3/2/2023",
         "Series A",
         "India",
         "13.0"
        ],
        [
         "15",
         "CNET",
         "SF Bay Area",
         "Media",
         "12.0",
         "0.1",
         "3/2/2023",
         "Acquired",
         "United States",
         "20.0"
        ],
        [
         "16",
         "Flipkart",
         "Bengaluru",
         "Retail",
         null,
         null,
         "3/2/2023",
         "Acquired",
         "India",
         "12900.0"
        ],
        [
         "17",
         "Kandela",
         "Los Angeles",
         "Consumer",
         null,
         "1.0",
         "3/2/2023",
         "Acquired",
         "United States",
         null
        ],
        [
         "18",
         "Truckstop.com",
         "Boise",
         "Logistics",
         null,
         null,
         "3/2/2023",
         "Acquired",
         "United States",
         null
        ],
        [
         "19",
         "Thoughtworks",
         "Chicago",
         "Other",
         "500.0",
         "0.04",
         "3/1/2023",
         "Post-IPO",
         "United States",
         "748.0"
        ],
        [
         "20",
         "iFood",
         "Sao Paulo",
         "Food",
         "355.0",
         "0.06",
         "3/1/2023",
         "Subsidiary",
         "Brazil",
         "2100.0"
        ],
        [
         "21",
         "Color Health",
         "SF Bay Area",
         "Healthcare",
         "300.0",
         null,
         "3/1/2023",
         "Series E",
         "United States",
         "482.0"
        ],
        [
         "22",
         "Waymo",
         "SF Bay Area",
         "Transportation",
         "209.0",
         "0.08",
         "3/1/2023",
         "Subsidiary",
         "United States",
         "5500.0"
        ],
        [
         "23",
         "PayFit",
         "Paris",
         "HR",
         "200.0",
         "0.2",
         "3/1/2023",
         "Series E",
         "France",
         "495.0"
        ],
        [
         "24",
         "Yellow.ai",
         "SF Bay Area",
         "Support",
         "200.0",
         null,
         "3/1/2023",
         "Series C",
         "United States",
         "102.0"
        ],
        [
         "25",
         "Sonder",
         "SF Bay Area",
         "Travel",
         "100.0",
         "0.14",
         "3/1/2023",
         "Post-IPO",
         "United States",
         "839.0"
        ],
        [
         "26",
         "Protego Trust Bank",
         "Seattle",
         "Crypto",
         null,
         "0.5",
         "3/1/2023",
         "Series A",
         "United States",
         "70.0"
        ],
        [
         "27",
         "Electronic Arts",
         "Baton Rouge",
         "Consumer",
         "200.0",
         null,
         "2/28/2023",
         "Post-IPO",
         "United States",
         "2.0"
        ],
        [
         "28",
         "Eventbrite",
         "SF Bay Area",
         "Consumer",
         "80.0",
         "0.08",
         "2/28/2023",
         "Post-IPO",
         "United States",
         "557.0"
        ],
        [
         "29",
         "DUX Education",
         "Bengaluru",
         "Education",
         null,
         "1.0",
         "2/28/2023",
         "Unknown",
         "India",
         null
        ],
        [
         "30",
         "MeridianLink",
         "Los Angeles",
         "Finance",
         null,
         "0.09",
         "2/28/2023",
         "Post-IPO",
         "United States",
         "485.0"
        ],
        [
         "31",
         "Sono Motors",
         "Munich",
         "Transportation",
         "300.0",
         null,
         "2/27/2023",
         "Post-IPO",
         "Germany",
         "126.0"
        ],
        [
         "32",
         "Cerebral",
         "SF Bay Area",
         "Healthcare",
         "285.0",
         "0.15",
         "2/27/2023",
         "Series C",
         "United States",
         "462.0"
        ],
        [
         "33",
         "Amount",
         "Chicago",
         "Finance",
         "130.0",
         "0.25",
         "2/27/2023",
         "Unknown",
         "United States",
         "283.0"
        ],
        [
         "34",
         "Palantir",
         "Denver",
         "Data",
         "75.0",
         "0.02",
         "2/27/2023",
         "Post-IPO",
         "United States.",
         "3000.0"
        ],
        [
         "35",
         "Outreach",
         "Seattle",
         "Sales",
         "70.0",
         "0.07",
         "2/27/2023",
         "Series G",
         "United States",
         "489.0"
        ],
        [
         "36",
         "Stytch",
         "SF Bay Area",
         "Security",
         "19.0",
         "0.25",
         "2/27/2023",
         "Series B",
         "United States",
         "126.0"
        ],
        [
         "37",
         "BitSight",
         "Tel Aviv",
         "Security",
         "40.0",
         null,
         "2/26/2023",
         "Unknown",
         "Israel",
         "401.0"
        ],
        [
         "38",
         "Twitter",
         "SF Bay Area",
         "Consumer",
         "200.0",
         "0.1",
         "2/25/2023",
         "Post-IPO",
         "United States",
         "12900.0"
        ],
        [
         "39",
         "Ericsson",
         "Stockholm",
         "Other",
         "8500.0",
         "0.08",
         "2/24/2023",
         "Post-IPO",
         "Sweden",
         "663.0"
        ],
        [
         "40",
         "SAP Labs",
         "Bengaluru",
         "Other",
         "300.0",
         null,
         "2/24/2023",
         "Subsidiary",
         "India",
         "1300.0"
        ],
        [
         "41",
         "Velodyne Lidar",
         "SF Bay Area",
         "Transportation",
         "220.0",
         null,
         "2/24/2023",
         "Acquired",
         "United States",
         "575.0"
        ],
        [
         "42",
         "Medallia",
         "SF Bay Area",
         "Support",
         "59.0",
         null,
         "2/24/2023",
         "Acquired",
         "United States",
         "325.0"
        ],
        [
         "43",
         "Eat Just",
         "SF Bay Area",
         "Food",
         "40.0",
         null,
         "2/24/2023",
         "Unknown",
         "United States",
         "465.0"
        ],
        [
         "44",
         "Lucira Health",
         "SF Bay Area",
         "Healthcare",
         "26.0",
         null,
         "2/24/2023",
         "Post-IPO",
         "United States",
         "132.0"
        ],
        [
         "45",
         "Stax",
         "Orlando",
         "Finance",
         "24.0",
         null,
         "2/24/2023",
         "Series D",
         "United States",
         "263.0"
        ],
        [
         "46",
         "Poshmark",
         "SF Bay Area",
         "Retail",
         null,
         "0.02",
         "2/24/2023",
         "Acquired",
         "United States",
         "153.0"
        ],
        [
         "47",
         "Merative",
         "Ann Arbor",
         "Healthcare",
         "200.0",
         "0.1",
         "2/23/2023",
         "Acquired",
         "United States",
         null
        ],
        [
         "48",
         "OneFootball",
         "Berlin",
         "Marketing",
         "150.0",
         "0.32",
         "2/23/2023",
         "Series D",
         "Germany",
         "442.0"
        ],
        [
         "49",
         "The Iconic",
         "Sydney",
         "Retail",
         "69.0",
         "0.06",
         "2/23/2023",
         "Unknown",
         "Australia",
         null
        ]
       ],
       "shape": {
        "columns": 9,
        "rows": 2361
       }
      },
      "text/html": [
       "<div>\n",
       "<style scoped>\n",
       "    .dataframe tbody tr th:only-of-type {\n",
       "        vertical-align: middle;\n",
       "    }\n",
       "\n",
       "    .dataframe tbody tr th {\n",
       "        vertical-align: top;\n",
       "    }\n",
       "\n",
       "    .dataframe thead th {\n",
       "        text-align: right;\n",
       "    }\n",
       "</style>\n",
       "<table border=\"1\" class=\"dataframe\">\n",
       "  <thead>\n",
       "    <tr style=\"text-align: right;\">\n",
       "      <th></th>\n",
       "      <th>company</th>\n",
       "      <th>location</th>\n",
       "      <th>industry</th>\n",
       "      <th>total_laid_off</th>\n",
       "      <th>percentage_laid_off</th>\n",
       "      <th>date</th>\n",
       "      <th>stage</th>\n",
       "      <th>country</th>\n",
       "      <th>funds_raised_millions</th>\n",
       "    </tr>\n",
       "  </thead>\n",
       "  <tbody>\n",
       "    <tr>\n",
       "      <th>0</th>\n",
       "      <td>Atlassian</td>\n",
       "      <td>Sydney</td>\n",
       "      <td>Other</td>\n",
       "      <td>500.0</td>\n",
       "      <td>0.05</td>\n",
       "      <td>3/6/2023</td>\n",
       "      <td>Post-IPO</td>\n",
       "      <td>Australia</td>\n",
       "      <td>210.0</td>\n",
       "    </tr>\n",
       "    <tr>\n",
       "      <th>1</th>\n",
       "      <td>SiriusXM</td>\n",
       "      <td>New York City</td>\n",
       "      <td>Media</td>\n",
       "      <td>475.0</td>\n",
       "      <td>0.08</td>\n",
       "      <td>3/6/2023</td>\n",
       "      <td>Post-IPO</td>\n",
       "      <td>United States</td>\n",
       "      <td>525.0</td>\n",
       "    </tr>\n",
       "    <tr>\n",
       "      <th>2</th>\n",
       "      <td>Alerzo</td>\n",
       "      <td>Ibadan</td>\n",
       "      <td>Retail</td>\n",
       "      <td>400.0</td>\n",
       "      <td>NaN</td>\n",
       "      <td>3/6/2023</td>\n",
       "      <td>Series B</td>\n",
       "      <td>Nigeria</td>\n",
       "      <td>16.0</td>\n",
       "    </tr>\n",
       "    <tr>\n",
       "      <th>3</th>\n",
       "      <td>UpGrad</td>\n",
       "      <td>Mumbai</td>\n",
       "      <td>Education</td>\n",
       "      <td>120.0</td>\n",
       "      <td>NaN</td>\n",
       "      <td>3/6/2023</td>\n",
       "      <td>Unknown</td>\n",
       "      <td>India</td>\n",
       "      <td>631.0</td>\n",
       "    </tr>\n",
       "    <tr>\n",
       "      <th>4</th>\n",
       "      <td>Loft</td>\n",
       "      <td>Sao Paulo</td>\n",
       "      <td>Real Estate</td>\n",
       "      <td>340.0</td>\n",
       "      <td>0.15</td>\n",
       "      <td>3/3/2023</td>\n",
       "      <td>Unknown</td>\n",
       "      <td>Brazil</td>\n",
       "      <td>788.0</td>\n",
       "    </tr>\n",
       "    <tr>\n",
       "      <th>...</th>\n",
       "      <td>...</td>\n",
       "      <td>...</td>\n",
       "      <td>...</td>\n",
       "      <td>...</td>\n",
       "      <td>...</td>\n",
       "      <td>...</td>\n",
       "      <td>...</td>\n",
       "      <td>...</td>\n",
       "      <td>...</td>\n",
       "    </tr>\n",
       "    <tr>\n",
       "      <th>2356</th>\n",
       "      <td>Blackbaud</td>\n",
       "      <td>Charleston</td>\n",
       "      <td>Other</td>\n",
       "      <td>500.0</td>\n",
       "      <td>0.14</td>\n",
       "      <td>NaN</td>\n",
       "      <td>Post-IPO</td>\n",
       "      <td>United States</td>\n",
       "      <td>NaN</td>\n",
       "    </tr>\n",
       "    <tr>\n",
       "      <th>2357</th>\n",
       "      <td>Yahoo</td>\n",
       "      <td>SF Bay Area</td>\n",
       "      <td>Consumer</td>\n",
       "      <td>1600.0</td>\n",
       "      <td>0.20</td>\n",
       "      <td>2/9/2023</td>\n",
       "      <td>Acquired</td>\n",
       "      <td>United States</td>\n",
       "      <td>6.0</td>\n",
       "    </tr>\n",
       "    <tr>\n",
       "      <th>2358</th>\n",
       "      <td>Hibob</td>\n",
       "      <td>Tel Aviv</td>\n",
       "      <td>HR</td>\n",
       "      <td>70.0</td>\n",
       "      <td>0.30</td>\n",
       "      <td>3/30/2020</td>\n",
       "      <td>Series A</td>\n",
       "      <td>Israel</td>\n",
       "      <td>45.0</td>\n",
       "    </tr>\n",
       "    <tr>\n",
       "      <th>2359</th>\n",
       "      <td>Casper</td>\n",
       "      <td>New York City</td>\n",
       "      <td>Retail</td>\n",
       "      <td>NaN</td>\n",
       "      <td>NaN</td>\n",
       "      <td>9/14/2021</td>\n",
       "      <td>Post-IPO</td>\n",
       "      <td>United States</td>\n",
       "      <td>339.0</td>\n",
       "    </tr>\n",
       "    <tr>\n",
       "      <th>2360</th>\n",
       "      <td>Wildlife Studios</td>\n",
       "      <td>Sao Paulo</td>\n",
       "      <td>Consumer</td>\n",
       "      <td>300.0</td>\n",
       "      <td>0.20</td>\n",
       "      <td>11/28/2022</td>\n",
       "      <td>Unknown</td>\n",
       "      <td>Brazil</td>\n",
       "      <td>260.0</td>\n",
       "    </tr>\n",
       "  </tbody>\n",
       "</table>\n",
       "<p>2361 rows × 9 columns</p>\n",
       "</div>"
      ],
      "text/plain": [
       "               company       location     industry  total_laid_off  \\\n",
       "0            Atlassian         Sydney        Other           500.0   \n",
       "1             SiriusXM  New York City        Media           475.0   \n",
       "2               Alerzo         Ibadan       Retail           400.0   \n",
       "3               UpGrad         Mumbai    Education           120.0   \n",
       "4                 Loft      Sao Paulo  Real Estate           340.0   \n",
       "...                ...            ...          ...             ...   \n",
       "2356         Blackbaud     Charleston        Other           500.0   \n",
       "2357             Yahoo    SF Bay Area     Consumer          1600.0   \n",
       "2358             Hibob       Tel Aviv           HR            70.0   \n",
       "2359            Casper  New York City       Retail             NaN   \n",
       "2360  Wildlife Studios      Sao Paulo     Consumer           300.0   \n",
       "\n",
       "      percentage_laid_off        date     stage        country  \\\n",
       "0                    0.05    3/6/2023  Post-IPO      Australia   \n",
       "1                    0.08    3/6/2023  Post-IPO  United States   \n",
       "2                     NaN    3/6/2023  Series B        Nigeria   \n",
       "3                     NaN    3/6/2023   Unknown          India   \n",
       "4                    0.15    3/3/2023   Unknown         Brazil   \n",
       "...                   ...         ...       ...            ...   \n",
       "2356                 0.14         NaN  Post-IPO  United States   \n",
       "2357                 0.20    2/9/2023  Acquired  United States   \n",
       "2358                 0.30   3/30/2020  Series A         Israel   \n",
       "2359                  NaN   9/14/2021  Post-IPO  United States   \n",
       "2360                 0.20  11/28/2022   Unknown         Brazil   \n",
       "\n",
       "      funds_raised_millions  \n",
       "0                     210.0  \n",
       "1                     525.0  \n",
       "2                      16.0  \n",
       "3                     631.0  \n",
       "4                     788.0  \n",
       "...                     ...  \n",
       "2356                    NaN  \n",
       "2357                    6.0  \n",
       "2358                   45.0  \n",
       "2359                  339.0  \n",
       "2360                  260.0  \n",
       "\n",
       "[2361 rows x 9 columns]"
      ]
     },
     "execution_count": 28,
     "metadata": {},
     "output_type": "execute_result"
    }
   ],
   "source": [
    "df"
   ]
  },
  {
   "cell_type": "markdown",
   "metadata": {},
   "source": [
    "#### View Basic Information:\n",
    "  data.info() is a function for viewing some information like  column names, data types, and non-null counts"
   ]
  },
  {
   "cell_type": "code",
   "execution_count": 29,
   "metadata": {},
   "outputs": [
    {
     "name": "stdout",
     "output_type": "stream",
     "text": [
      "<class 'pandas.core.frame.DataFrame'>\n",
      "RangeIndex: 2361 entries, 0 to 2360\n",
      "Data columns (total 9 columns):\n",
      " #   Column                 Non-Null Count  Dtype  \n",
      "---  ------                 --------------  -----  \n",
      " 0   company                2361 non-null   object \n",
      " 1   location               2361 non-null   object \n",
      " 2   industry               2357 non-null   object \n",
      " 3   total_laid_off         1621 non-null   float64\n",
      " 4   percentage_laid_off    1576 non-null   float64\n",
      " 5   date                   2360 non-null   object \n",
      " 6   stage                  2355 non-null   object \n",
      " 7   country                2361 non-null   object \n",
      " 8   funds_raised_millions  2152 non-null   float64\n",
      "dtypes: float64(3), object(6)\n",
      "memory usage: 166.1+ KB\n"
     ]
    }
   ],
   "source": [
    "df.info()"
   ]
  },
  {
   "cell_type": "markdown",
   "metadata": {},
   "source": [
    "#### What is `df.duplicated()`?\n",
    "\n",
    "The `df.duplicated()` function in pandas is used to identify **duplicate rows** in a DataFrame. It returns a Series of boolean values where:\n",
    "\n",
    "- `True` indicates that a row is a duplicate (i.e., it has appeared earlier in the DataFrame).\n",
    "- `False` indicates that a row is unique or the first occurrence of a duplicate.\n",
    "\n"
   ]
  },
  {
   "cell_type": "code",
   "execution_count": 30,
   "metadata": {},
   "outputs": [
    {
     "data": {
      "text/plain": [
       "0       False\n",
       "1       False\n",
       "2       False\n",
       "3       False\n",
       "4       False\n",
       "        ...  \n",
       "2356    False\n",
       "2357     True\n",
       "2358     True\n",
       "2359     True\n",
       "2360     True\n",
       "Length: 2361, dtype: bool"
      ]
     },
     "execution_count": 30,
     "metadata": {},
     "output_type": "execute_result"
    }
   ],
   "source": [
    "df.duplicated(subset=None, keep='first')"
   ]
  },
  {
   "cell_type": "markdown",
   "metadata": {},
   "source": [
    "### What is `df.duplicated().sum()`?\n",
    "\n",
    "The expression `df.duplicated().sum()` is used to count the total number of **duplicate rows** in a DataFrame. Here's how it works:\n",
    "\n",
    "1. **`df.duplicated()`**:\n",
    "   - Returns a Series of boolean values where:\n",
    "     - `True` represents a duplicate row.\n",
    "     - `False` represents a unique row or the first occurrence of a duplicate.\n",
    "   \n",
    "2. **`.sum()`**:\n",
    "   - Sums up the `True` values in the Series. Since `True` is treated as `1` and `False` as `0`, the result is the total number of duplicate rows in the DataFrame.\n"
   ]
  },
  {
   "cell_type": "code",
   "execution_count": 31,
   "metadata": {},
   "outputs": [
    {
     "data": {
      "text/plain": [
       "np.int64(5)"
      ]
     },
     "execution_count": 31,
     "metadata": {},
     "output_type": "execute_result"
    }
   ],
   "source": [
    "df.duplicated().sum()"
   ]
  },
  {
   "cell_type": "markdown",
   "metadata": {},
   "source": [
    "### What is `df.drop_duplicates(inplace=True)`?\n",
    "\n",
    "The `df.drop_duplicates(inplace=True)` command in pandas is used to **remove duplicate rows** from a DataFrame. By setting `inplace=True`, the operation modifies the original DataFrame directly, instead of returning a new DataFrame.\n"
   ]
  },
  {
   "cell_type": "code",
   "execution_count": 32,
   "metadata": {},
   "outputs": [],
   "source": [
    "df.drop_duplicates(subset=None, keep='first',inplace=True)"
   ]
  },
  {
   "cell_type": "code",
   "execution_count": 33,
   "metadata": {},
   "outputs": [
    {
     "data": {
      "text/plain": [
       "np.int64(0)"
      ]
     },
     "execution_count": 33,
     "metadata": {},
     "output_type": "execute_result"
    }
   ],
   "source": [
    "df.duplicated().sum()"
   ]
  },
  {
   "cell_type": "code",
   "execution_count": 34,
   "metadata": {},
   "outputs": [
    {
     "data": {
      "application/vnd.microsoft.datawrangler.viewer.v0+json": {
       "columns": [
        {
         "name": "index",
         "rawType": "int64",
         "type": "integer"
        },
        {
         "name": "company",
         "rawType": "object",
         "type": "string"
        },
        {
         "name": "location",
         "rawType": "object",
         "type": "string"
        },
        {
         "name": "industry",
         "rawType": "object",
         "type": "unknown"
        },
        {
         "name": "total_laid_off",
         "rawType": "float64",
         "type": "float"
        },
        {
         "name": "percentage_laid_off",
         "rawType": "float64",
         "type": "float"
        },
        {
         "name": "date",
         "rawType": "object",
         "type": "unknown"
        },
        {
         "name": "stage",
         "rawType": "object",
         "type": "unknown"
        },
        {
         "name": "country",
         "rawType": "object",
         "type": "string"
        },
        {
         "name": "funds_raised_millions",
         "rawType": "float64",
         "type": "float"
        }
       ],
       "conversionMethod": "pd.DataFrame",
       "ref": "a19194a2-5a28-4ac0-abe0-7598f130462f",
       "rows": [
        [
         "0",
         "Atlassian",
         "Sydney",
         "Other",
         "500.0",
         "0.05",
         "3/6/2023",
         "Post-IPO",
         "Australia",
         "210.0"
        ],
        [
         "1",
         "SiriusXM",
         "New York City",
         "Media",
         "475.0",
         "0.08",
         "3/6/2023",
         "Post-IPO",
         "United States",
         "525.0"
        ],
        [
         "2",
         "Alerzo",
         "Ibadan",
         "Retail",
         "400.0",
         null,
         "3/6/2023",
         "Series B",
         "Nigeria",
         "16.0"
        ],
        [
         "3",
         "UpGrad",
         "Mumbai",
         "Education",
         "120.0",
         null,
         "3/6/2023",
         "Unknown",
         "India",
         "631.0"
        ],
        [
         "4",
         "Loft",
         "Sao Paulo",
         "Real Estate",
         "340.0",
         "0.15",
         "3/3/2023",
         "Unknown",
         "Brazil",
         "788.0"
        ],
        [
         "5",
         "Embark Trucks",
         "SF Bay Area",
         "Transportation",
         "230.0",
         "0.7",
         "3/3/2023",
         "Post-IPO",
         "United States",
         "317.0"
        ],
        [
         "6",
         "Lendi",
         "Sydney",
         "Real Estate",
         "100.0",
         null,
         "3/3/2023",
         "Unknown",
         "Australia",
         "59.0"
        ],
        [
         "7",
         "UserTesting",
         "SF Bay Area",
         "Marketing",
         "63.0",
         null,
         "3/3/2023",
         "Acquired",
         "United States",
         "152.0"
        ],
        [
         "8",
         "Airbnb",
         "SF Bay Area",
         null,
         "30.0",
         null,
         "3/3/2023",
         "Post-IPO",
         "United States",
         "6400.0"
        ],
        [
         "9",
         "Accolade",
         "Seattle",
         "Healthcare",
         null,
         null,
         "3/3/2023",
         "Post-IPO",
         "United States",
         "458.0"
        ],
        [
         "10",
         "Indigo",
         "Boston",
         "Other",
         null,
         null,
         "3/3/2023",
         "Series F",
         "United States.",
         "1200.0"
        ],
        [
         "11",
         "Zscaler",
         "SF Bay Area",
         "Security",
         "177.0",
         "0.03",
         "3/2/2023",
         "Post-IPO",
         "United States",
         "148.0"
        ],
        [
         "12",
         "MasterClass",
         "SF Bay Area",
         "Education",
         "79.0",
         null,
         "3/2/2023",
         "Series E",
         "United States",
         "461.0"
        ],
        [
         "13",
         "Ambev Tech",
         "Blumenau",
         "Food",
         "50.0",
         null,
         "3/2/2023",
         "Acquired",
         "Brazil",
         null
        ],
        [
         "14",
         "Fittr",
         "Pune",
         "Fitness",
         "30.0",
         "0.11",
         "3/2/2023",
         "Series A",
         "India",
         "13.0"
        ],
        [
         "15",
         "CNET",
         "SF Bay Area",
         "Media",
         "12.0",
         "0.1",
         "3/2/2023",
         "Acquired",
         "United States",
         "20.0"
        ],
        [
         "16",
         "Flipkart",
         "Bengaluru",
         "Retail",
         null,
         null,
         "3/2/2023",
         "Acquired",
         "India",
         "12900.0"
        ],
        [
         "17",
         "Kandela",
         "Los Angeles",
         "Consumer",
         null,
         "1.0",
         "3/2/2023",
         "Acquired",
         "United States",
         null
        ],
        [
         "18",
         "Truckstop.com",
         "Boise",
         "Logistics",
         null,
         null,
         "3/2/2023",
         "Acquired",
         "United States",
         null
        ],
        [
         "19",
         "Thoughtworks",
         "Chicago",
         "Other",
         "500.0",
         "0.04",
         "3/1/2023",
         "Post-IPO",
         "United States",
         "748.0"
        ],
        [
         "20",
         "iFood",
         "Sao Paulo",
         "Food",
         "355.0",
         "0.06",
         "3/1/2023",
         "Subsidiary",
         "Brazil",
         "2100.0"
        ],
        [
         "21",
         "Color Health",
         "SF Bay Area",
         "Healthcare",
         "300.0",
         null,
         "3/1/2023",
         "Series E",
         "United States",
         "482.0"
        ],
        [
         "22",
         "Waymo",
         "SF Bay Area",
         "Transportation",
         "209.0",
         "0.08",
         "3/1/2023",
         "Subsidiary",
         "United States",
         "5500.0"
        ],
        [
         "23",
         "PayFit",
         "Paris",
         "HR",
         "200.0",
         "0.2",
         "3/1/2023",
         "Series E",
         "France",
         "495.0"
        ],
        [
         "24",
         "Yellow.ai",
         "SF Bay Area",
         "Support",
         "200.0",
         null,
         "3/1/2023",
         "Series C",
         "United States",
         "102.0"
        ],
        [
         "25",
         "Sonder",
         "SF Bay Area",
         "Travel",
         "100.0",
         "0.14",
         "3/1/2023",
         "Post-IPO",
         "United States",
         "839.0"
        ],
        [
         "26",
         "Protego Trust Bank",
         "Seattle",
         "Crypto",
         null,
         "0.5",
         "3/1/2023",
         "Series A",
         "United States",
         "70.0"
        ],
        [
         "27",
         "Electronic Arts",
         "Baton Rouge",
         "Consumer",
         "200.0",
         null,
         "2/28/2023",
         "Post-IPO",
         "United States",
         "2.0"
        ],
        [
         "28",
         "Eventbrite",
         "SF Bay Area",
         "Consumer",
         "80.0",
         "0.08",
         "2/28/2023",
         "Post-IPO",
         "United States",
         "557.0"
        ],
        [
         "29",
         "DUX Education",
         "Bengaluru",
         "Education",
         null,
         "1.0",
         "2/28/2023",
         "Unknown",
         "India",
         null
        ],
        [
         "30",
         "MeridianLink",
         "Los Angeles",
         "Finance",
         null,
         "0.09",
         "2/28/2023",
         "Post-IPO",
         "United States",
         "485.0"
        ],
        [
         "31",
         "Sono Motors",
         "Munich",
         "Transportation",
         "300.0",
         null,
         "2/27/2023",
         "Post-IPO",
         "Germany",
         "126.0"
        ],
        [
         "32",
         "Cerebral",
         "SF Bay Area",
         "Healthcare",
         "285.0",
         "0.15",
         "2/27/2023",
         "Series C",
         "United States",
         "462.0"
        ],
        [
         "33",
         "Amount",
         "Chicago",
         "Finance",
         "130.0",
         "0.25",
         "2/27/2023",
         "Unknown",
         "United States",
         "283.0"
        ],
        [
         "34",
         "Palantir",
         "Denver",
         "Data",
         "75.0",
         "0.02",
         "2/27/2023",
         "Post-IPO",
         "United States.",
         "3000.0"
        ],
        [
         "35",
         "Outreach",
         "Seattle",
         "Sales",
         "70.0",
         "0.07",
         "2/27/2023",
         "Series G",
         "United States",
         "489.0"
        ],
        [
         "36",
         "Stytch",
         "SF Bay Area",
         "Security",
         "19.0",
         "0.25",
         "2/27/2023",
         "Series B",
         "United States",
         "126.0"
        ],
        [
         "37",
         "BitSight",
         "Tel Aviv",
         "Security",
         "40.0",
         null,
         "2/26/2023",
         "Unknown",
         "Israel",
         "401.0"
        ],
        [
         "38",
         "Twitter",
         "SF Bay Area",
         "Consumer",
         "200.0",
         "0.1",
         "2/25/2023",
         "Post-IPO",
         "United States",
         "12900.0"
        ],
        [
         "39",
         "Ericsson",
         "Stockholm",
         "Other",
         "8500.0",
         "0.08",
         "2/24/2023",
         "Post-IPO",
         "Sweden",
         "663.0"
        ],
        [
         "40",
         "SAP Labs",
         "Bengaluru",
         "Other",
         "300.0",
         null,
         "2/24/2023",
         "Subsidiary",
         "India",
         "1300.0"
        ],
        [
         "41",
         "Velodyne Lidar",
         "SF Bay Area",
         "Transportation",
         "220.0",
         null,
         "2/24/2023",
         "Acquired",
         "United States",
         "575.0"
        ],
        [
         "42",
         "Medallia",
         "SF Bay Area",
         "Support",
         "59.0",
         null,
         "2/24/2023",
         "Acquired",
         "United States",
         "325.0"
        ],
        [
         "43",
         "Eat Just",
         "SF Bay Area",
         "Food",
         "40.0",
         null,
         "2/24/2023",
         "Unknown",
         "United States",
         "465.0"
        ],
        [
         "44",
         "Lucira Health",
         "SF Bay Area",
         "Healthcare",
         "26.0",
         null,
         "2/24/2023",
         "Post-IPO",
         "United States",
         "132.0"
        ],
        [
         "45",
         "Stax",
         "Orlando",
         "Finance",
         "24.0",
         null,
         "2/24/2023",
         "Series D",
         "United States",
         "263.0"
        ],
        [
         "46",
         "Poshmark",
         "SF Bay Area",
         "Retail",
         null,
         "0.02",
         "2/24/2023",
         "Acquired",
         "United States",
         "153.0"
        ],
        [
         "47",
         "Merative",
         "Ann Arbor",
         "Healthcare",
         "200.0",
         "0.1",
         "2/23/2023",
         "Acquired",
         "United States",
         null
        ],
        [
         "48",
         "OneFootball",
         "Berlin",
         "Marketing",
         "150.0",
         "0.32",
         "2/23/2023",
         "Series D",
         "Germany",
         "442.0"
        ],
        [
         "49",
         "The Iconic",
         "Sydney",
         "Retail",
         "69.0",
         "0.06",
         "2/23/2023",
         "Unknown",
         "Australia",
         null
        ]
       ],
       "shape": {
        "columns": 9,
        "rows": 2356
       }
      },
      "text/html": [
       "<div>\n",
       "<style scoped>\n",
       "    .dataframe tbody tr th:only-of-type {\n",
       "        vertical-align: middle;\n",
       "    }\n",
       "\n",
       "    .dataframe tbody tr th {\n",
       "        vertical-align: top;\n",
       "    }\n",
       "\n",
       "    .dataframe thead th {\n",
       "        text-align: right;\n",
       "    }\n",
       "</style>\n",
       "<table border=\"1\" class=\"dataframe\">\n",
       "  <thead>\n",
       "    <tr style=\"text-align: right;\">\n",
       "      <th></th>\n",
       "      <th>company</th>\n",
       "      <th>location</th>\n",
       "      <th>industry</th>\n",
       "      <th>total_laid_off</th>\n",
       "      <th>percentage_laid_off</th>\n",
       "      <th>date</th>\n",
       "      <th>stage</th>\n",
       "      <th>country</th>\n",
       "      <th>funds_raised_millions</th>\n",
       "    </tr>\n",
       "  </thead>\n",
       "  <tbody>\n",
       "    <tr>\n",
       "      <th>0</th>\n",
       "      <td>Atlassian</td>\n",
       "      <td>Sydney</td>\n",
       "      <td>Other</td>\n",
       "      <td>500.0</td>\n",
       "      <td>0.05</td>\n",
       "      <td>3/6/2023</td>\n",
       "      <td>Post-IPO</td>\n",
       "      <td>Australia</td>\n",
       "      <td>210.0</td>\n",
       "    </tr>\n",
       "    <tr>\n",
       "      <th>1</th>\n",
       "      <td>SiriusXM</td>\n",
       "      <td>New York City</td>\n",
       "      <td>Media</td>\n",
       "      <td>475.0</td>\n",
       "      <td>0.08</td>\n",
       "      <td>3/6/2023</td>\n",
       "      <td>Post-IPO</td>\n",
       "      <td>United States</td>\n",
       "      <td>525.0</td>\n",
       "    </tr>\n",
       "    <tr>\n",
       "      <th>2</th>\n",
       "      <td>Alerzo</td>\n",
       "      <td>Ibadan</td>\n",
       "      <td>Retail</td>\n",
       "      <td>400.0</td>\n",
       "      <td>NaN</td>\n",
       "      <td>3/6/2023</td>\n",
       "      <td>Series B</td>\n",
       "      <td>Nigeria</td>\n",
       "      <td>16.0</td>\n",
       "    </tr>\n",
       "    <tr>\n",
       "      <th>3</th>\n",
       "      <td>UpGrad</td>\n",
       "      <td>Mumbai</td>\n",
       "      <td>Education</td>\n",
       "      <td>120.0</td>\n",
       "      <td>NaN</td>\n",
       "      <td>3/6/2023</td>\n",
       "      <td>Unknown</td>\n",
       "      <td>India</td>\n",
       "      <td>631.0</td>\n",
       "    </tr>\n",
       "    <tr>\n",
       "      <th>4</th>\n",
       "      <td>Loft</td>\n",
       "      <td>Sao Paulo</td>\n",
       "      <td>Real Estate</td>\n",
       "      <td>340.0</td>\n",
       "      <td>0.15</td>\n",
       "      <td>3/3/2023</td>\n",
       "      <td>Unknown</td>\n",
       "      <td>Brazil</td>\n",
       "      <td>788.0</td>\n",
       "    </tr>\n",
       "    <tr>\n",
       "      <th>...</th>\n",
       "      <td>...</td>\n",
       "      <td>...</td>\n",
       "      <td>...</td>\n",
       "      <td>...</td>\n",
       "      <td>...</td>\n",
       "      <td>...</td>\n",
       "      <td>...</td>\n",
       "      <td>...</td>\n",
       "      <td>...</td>\n",
       "    </tr>\n",
       "    <tr>\n",
       "      <th>2352</th>\n",
       "      <td>HopSkipDrive</td>\n",
       "      <td>Los Angeles</td>\n",
       "      <td>Transportation</td>\n",
       "      <td>8.0</td>\n",
       "      <td>0.10</td>\n",
       "      <td>3/13/2020</td>\n",
       "      <td>Unknown</td>\n",
       "      <td>United States</td>\n",
       "      <td>45.0</td>\n",
       "    </tr>\n",
       "    <tr>\n",
       "      <th>2353</th>\n",
       "      <td>Panda Squad</td>\n",
       "      <td>SF Bay Area</td>\n",
       "      <td>Consumer</td>\n",
       "      <td>6.0</td>\n",
       "      <td>0.75</td>\n",
       "      <td>3/13/2020</td>\n",
       "      <td>Seed</td>\n",
       "      <td>United States</td>\n",
       "      <td>1.0</td>\n",
       "    </tr>\n",
       "    <tr>\n",
       "      <th>2354</th>\n",
       "      <td>Tamara Mellon</td>\n",
       "      <td>Los Angeles</td>\n",
       "      <td>Retail</td>\n",
       "      <td>20.0</td>\n",
       "      <td>0.40</td>\n",
       "      <td>3/12/2020</td>\n",
       "      <td>Series C</td>\n",
       "      <td>United States</td>\n",
       "      <td>90.0</td>\n",
       "    </tr>\n",
       "    <tr>\n",
       "      <th>2355</th>\n",
       "      <td>EasyPost</td>\n",
       "      <td>Salt Lake City</td>\n",
       "      <td>Logistics</td>\n",
       "      <td>75.0</td>\n",
       "      <td>NaN</td>\n",
       "      <td>3/11/2020</td>\n",
       "      <td>Series A</td>\n",
       "      <td>United States</td>\n",
       "      <td>12.0</td>\n",
       "    </tr>\n",
       "    <tr>\n",
       "      <th>2356</th>\n",
       "      <td>Blackbaud</td>\n",
       "      <td>Charleston</td>\n",
       "      <td>Other</td>\n",
       "      <td>500.0</td>\n",
       "      <td>0.14</td>\n",
       "      <td>NaN</td>\n",
       "      <td>Post-IPO</td>\n",
       "      <td>United States</td>\n",
       "      <td>NaN</td>\n",
       "    </tr>\n",
       "  </tbody>\n",
       "</table>\n",
       "<p>2356 rows × 9 columns</p>\n",
       "</div>"
      ],
      "text/plain": [
       "            company        location        industry  total_laid_off  \\\n",
       "0         Atlassian          Sydney           Other           500.0   \n",
       "1          SiriusXM   New York City           Media           475.0   \n",
       "2            Alerzo          Ibadan          Retail           400.0   \n",
       "3            UpGrad          Mumbai       Education           120.0   \n",
       "4              Loft       Sao Paulo     Real Estate           340.0   \n",
       "...             ...             ...             ...             ...   \n",
       "2352   HopSkipDrive     Los Angeles  Transportation             8.0   \n",
       "2353    Panda Squad     SF Bay Area        Consumer             6.0   \n",
       "2354  Tamara Mellon     Los Angeles          Retail            20.0   \n",
       "2355       EasyPost  Salt Lake City       Logistics            75.0   \n",
       "2356      Blackbaud      Charleston           Other           500.0   \n",
       "\n",
       "      percentage_laid_off       date     stage        country  \\\n",
       "0                    0.05   3/6/2023  Post-IPO      Australia   \n",
       "1                    0.08   3/6/2023  Post-IPO  United States   \n",
       "2                     NaN   3/6/2023  Series B        Nigeria   \n",
       "3                     NaN   3/6/2023   Unknown          India   \n",
       "4                    0.15   3/3/2023   Unknown         Brazil   \n",
       "...                   ...        ...       ...            ...   \n",
       "2352                 0.10  3/13/2020   Unknown  United States   \n",
       "2353                 0.75  3/13/2020      Seed  United States   \n",
       "2354                 0.40  3/12/2020  Series C  United States   \n",
       "2355                  NaN  3/11/2020  Series A  United States   \n",
       "2356                 0.14        NaN  Post-IPO  United States   \n",
       "\n",
       "      funds_raised_millions  \n",
       "0                     210.0  \n",
       "1                     525.0  \n",
       "2                      16.0  \n",
       "3                     631.0  \n",
       "4                     788.0  \n",
       "...                     ...  \n",
       "2352                   45.0  \n",
       "2353                    1.0  \n",
       "2354                   90.0  \n",
       "2355                   12.0  \n",
       "2356                    NaN  \n",
       "\n",
       "[2356 rows x 9 columns]"
      ]
     },
     "execution_count": 34,
     "metadata": {},
     "output_type": "execute_result"
    }
   ],
   "source": [
    "df"
   ]
  },
  {
   "cell_type": "markdown",
   "metadata": {},
   "source": [
    "### Exploring Each Country to Detect Noise\n",
    "\n",
    "When working with categorical data like country names, it's essential to **explore** and **analyze** the data to detect potential **noise**. Noise in this context refers to any erroneous, inconsistent, or irrelevant data that could distort analysis. Exploring each country can help you identify such issues. Here are some steps to help you detect noise:\n",
    "\n",
    "#### Steps to Explore Data and Detect Noise:\n",
    "\n",
    "1. **Check for Unusual or Misspelled Country Names**:\n",
    "   - Look for any variations in the country names, such as spelling errors, abbreviations, or extra spaces.\n",
    "   - You can use `value_counts()` to see how many times each country appears.\n",
    "   \n",
    "This can reveal potential discrepancies, such as:\n",
    "\n",
    "\"USA\" vs \"US\"\n",
    "\"Germany\" vs \"DE\"\n",
    "Misspelled country names like \"UAS\" or \"Canda\".\n"
   ]
  },
  {
   "cell_type": "code",
   "execution_count": 35,
   "metadata": {},
   "outputs": [
    {
     "data": {
      "text/plain": [
       "country\n",
       "United States           1539\n",
       "India                    148\n",
       "Canada                    99\n",
       "Brazil                    76\n",
       "United Kingdom            73\n",
       "Germany                   68\n",
       "Israel                    55\n",
       "Australia                 54\n",
       "Singapore                 34\n",
       "Indonesia                 24\n",
       "Sweden                    20\n",
       "China                     18\n",
       "Nigeria                   15\n",
       "Netherlands               13\n",
       "France                     7\n",
       "Argentina                  6\n",
       "United Arab Emirates       6\n",
       "Kenya                      6\n",
       "Estonia                    5\n",
       "Ireland                    5\n",
       "Hong Kong                  5\n",
       "Colombia                   4\n",
       "Mexico                     4\n",
       "Denmark                    4\n",
       "Norway                     4\n",
       "Finland                    4\n",
       "Seychelles                 4\n",
       "United States.             4\n",
       "Vietnam                    3\n",
       "Austria                    3\n",
       "Pakistan                   3\n",
       "Chile                      3\n",
       "Spain                      3\n",
       "Portugal                   3\n",
       "Luxembourg                 3\n",
       "Malaysia                   3\n",
       "Switzerland                2\n",
       "Egypt                      2\n",
       "South Korea                2\n",
       "New Zealand                2\n",
       "Italy                      1\n",
       "Japan                      1\n",
       "Poland                     1\n",
       "Greece                     1\n",
       "Hungary                    1\n",
       "Belgium                    1\n",
       "Thailand                   1\n",
       "Lithuania                  1\n",
       "Senegal                    1\n",
       "Ghana                      1\n",
       "Peru                       1\n",
       "Bahrain                    1\n",
       "Romania                    1\n",
       "Turkey                     1\n",
       "Russia                     1\n",
       "Uruguay                    1\n",
       "Bulgaria                   1\n",
       "South Africa               1\n",
       "Czech Republic             1\n",
       "Myanmar                    1\n",
       "Name: count, dtype: int64"
      ]
     },
     "execution_count": 35,
     "metadata": {},
     "output_type": "execute_result"
    }
   ],
   "source": [
    "df['country'].value_counts()"
   ]
  },
  {
   "cell_type": "markdown",
   "metadata": {},
   "source": [
    "### What is df['country'].unique()?\n",
    "\n",
    "The df['country'].unique() function in pandas is used to retrieve the unique values from the 'country' column of a DataFrame. It returns a NumPy array containing all the distinct values present in the specified column."
   ]
  },
  {
   "cell_type": "code",
   "execution_count": 36,
   "metadata": {},
   "outputs": [
    {
     "data": {
      "text/plain": [
       "array(['Australia', 'United States', 'Nigeria', 'India', 'Brazil',\n",
       "       'United States.', 'France', 'Germany', 'Israel', 'Sweden',\n",
       "       'United Kingdom', 'Japan', 'South Korea', 'China', 'Italy',\n",
       "       'Singapore', 'Indonesia', 'Estonia', 'Canada', 'Ireland',\n",
       "       'Finland', 'Netherlands', 'Spain', 'Portugal', 'Chile', 'Colombia',\n",
       "       'Argentina', 'Seychelles', 'Austria', 'Mexico', 'Switzerland',\n",
       "       'Egypt', 'Kenya', 'Luxembourg', 'Greece', 'Poland', 'Norway',\n",
       "       'Belgium', 'Denmark', 'Hong Kong', 'New Zealand', 'Malaysia',\n",
       "       'Hungary', 'Vietnam', 'Thailand', 'Lithuania', 'Ghana', 'Senegal',\n",
       "       'Pakistan', 'United Arab Emirates', 'Peru', 'Bahrain', 'Romania',\n",
       "       'Turkey', 'Russia', 'Uruguay', 'Bulgaria', 'South Africa',\n",
       "       'Czech Republic', 'Myanmar'], dtype=object)"
      ]
     },
     "execution_count": 36,
     "metadata": {},
     "output_type": "execute_result"
    }
   ],
   "source": [
    "df['country'].unique()\n"
   ]
  },
  {
   "cell_type": "markdown",
   "metadata": {},
   "source": [
    "### What is `df['country'].value_counts().sort_index()`?\n",
    "\n",
    "The `df['country'].value_counts().sort_index()` command in pandas is used to:\n",
    "1. **Count the occurrences** of each unique value in the `'country'` column using `value_counts()`.\n",
    "2. **Sort the results by the index** (i.e., the unique values themselves) instead of sorting by the counts.\n"
   ]
  },
  {
   "cell_type": "code",
   "execution_count": 37,
   "metadata": {},
   "outputs": [
    {
     "data": {
      "text/plain": [
       "country\n",
       "Argentina                  6\n",
       "Australia                 54\n",
       "Austria                    3\n",
       "Bahrain                    1\n",
       "Belgium                    1\n",
       "Brazil                    76\n",
       "Bulgaria                   1\n",
       "Canada                    99\n",
       "Chile                      3\n",
       "China                     18\n",
       "Colombia                   4\n",
       "Czech Republic             1\n",
       "Denmark                    4\n",
       "Egypt                      2\n",
       "Estonia                    5\n",
       "Finland                    4\n",
       "France                     7\n",
       "Germany                   68\n",
       "Ghana                      1\n",
       "Greece                     1\n",
       "Hong Kong                  5\n",
       "Hungary                    1\n",
       "India                    148\n",
       "Indonesia                 24\n",
       "Ireland                    5\n",
       "Israel                    55\n",
       "Italy                      1\n",
       "Japan                      1\n",
       "Kenya                      6\n",
       "Lithuania                  1\n",
       "Luxembourg                 3\n",
       "Malaysia                   3\n",
       "Mexico                     4\n",
       "Myanmar                    1\n",
       "Netherlands               13\n",
       "New Zealand                2\n",
       "Nigeria                   15\n",
       "Norway                     4\n",
       "Pakistan                   3\n",
       "Peru                       1\n",
       "Poland                     1\n",
       "Portugal                   3\n",
       "Romania                    1\n",
       "Russia                     1\n",
       "Senegal                    1\n",
       "Seychelles                 4\n",
       "Singapore                 34\n",
       "South Africa               1\n",
       "South Korea                2\n",
       "Spain                      3\n",
       "Sweden                    20\n",
       "Switzerland                2\n",
       "Thailand                   1\n",
       "Turkey                     1\n",
       "United Arab Emirates       6\n",
       "United Kingdom            73\n",
       "United States           1539\n",
       "United States.             4\n",
       "Uruguay                    1\n",
       "Vietnam                    3\n",
       "Name: count, dtype: int64"
      ]
     },
     "execution_count": 37,
     "metadata": {},
     "output_type": "execute_result"
    }
   ],
   "source": [
    "df['country'].value_counts().sort_index()"
   ]
  },
  {
   "cell_type": "markdown",
   "metadata": {},
   "source": [
    "#### Filter Rows Where country == 'United States.':\n",
    "## What is `df[df['country'] == 'United States.']`?\n",
    "\n",
    "The expression `df[df['country'] == 'United States.']` is used in pandas to **filter rows** in the DataFrame where the value in the `'country'` column is equal to `'United States.'`.\n",
    "---\n",
    "#### How It Works:\n",
    "1. **`df['country'] == 'United States.'`**:\n",
    "   - Creates a Boolean mask (True/False values) for the `'country'` column.\n",
    "   - Each row is checked, and `True` is assigned if the value equals `'United States.'`; otherwise, `False`.\n",
    "\n",
    "2. **`df[...]`**:\n",
    "   - The Boolean mask is applied to the DataFrame, returning only rows where the condition is `True`.\n"
   ]
  },
  {
   "cell_type": "code",
   "execution_count": 38,
   "metadata": {},
   "outputs": [
    {
     "data": {
      "application/vnd.microsoft.datawrangler.viewer.v0+json": {
       "columns": [
        {
         "name": "index",
         "rawType": "int64",
         "type": "integer"
        },
        {
         "name": "company",
         "rawType": "object",
         "type": "string"
        },
        {
         "name": "location",
         "rawType": "object",
         "type": "string"
        },
        {
         "name": "industry",
         "rawType": "object",
         "type": "string"
        },
        {
         "name": "total_laid_off",
         "rawType": "float64",
         "type": "float"
        },
        {
         "name": "percentage_laid_off",
         "rawType": "float64",
         "type": "float"
        },
        {
         "name": "date",
         "rawType": "object",
         "type": "string"
        },
        {
         "name": "stage",
         "rawType": "object",
         "type": "string"
        },
        {
         "name": "country",
         "rawType": "object",
         "type": "string"
        },
        {
         "name": "funds_raised_millions",
         "rawType": "float64",
         "type": "float"
        }
       ],
       "conversionMethod": "pd.DataFrame",
       "ref": "48ed6c06-b702-4073-a586-90b2ab2146ac",
       "rows": [
        [
         "10",
         "Indigo",
         "Boston",
         "Other",
         null,
         null,
         "3/3/2023",
         "Series F",
         "United States.",
         "1200.0"
        ],
        [
         "34",
         "Palantir",
         "Denver",
         "Data",
         "75.0",
         "0.02",
         "2/27/2023",
         "Post-IPO",
         "United States.",
         "3000.0"
        ],
        [
         "102",
         "Twilio",
         "SF Bay Area",
         "Other",
         "1500.0",
         "0.17",
         "2/13/2023",
         "Post-IPO",
         "United States.",
         "614.0"
        ],
        [
         "912",
         "Landing",
         "Birmingham",
         "Real Estate",
         "110.0",
         null,
         "10/6/2022",
         "Series C",
         "United States.",
         "347.0"
        ]
       ],
       "shape": {
        "columns": 9,
        "rows": 4
       }
      },
      "text/html": [
       "<div>\n",
       "<style scoped>\n",
       "    .dataframe tbody tr th:only-of-type {\n",
       "        vertical-align: middle;\n",
       "    }\n",
       "\n",
       "    .dataframe tbody tr th {\n",
       "        vertical-align: top;\n",
       "    }\n",
       "\n",
       "    .dataframe thead th {\n",
       "        text-align: right;\n",
       "    }\n",
       "</style>\n",
       "<table border=\"1\" class=\"dataframe\">\n",
       "  <thead>\n",
       "    <tr style=\"text-align: right;\">\n",
       "      <th></th>\n",
       "      <th>company</th>\n",
       "      <th>location</th>\n",
       "      <th>industry</th>\n",
       "      <th>total_laid_off</th>\n",
       "      <th>percentage_laid_off</th>\n",
       "      <th>date</th>\n",
       "      <th>stage</th>\n",
       "      <th>country</th>\n",
       "      <th>funds_raised_millions</th>\n",
       "    </tr>\n",
       "  </thead>\n",
       "  <tbody>\n",
       "    <tr>\n",
       "      <th>10</th>\n",
       "      <td>Indigo</td>\n",
       "      <td>Boston</td>\n",
       "      <td>Other</td>\n",
       "      <td>NaN</td>\n",
       "      <td>NaN</td>\n",
       "      <td>3/3/2023</td>\n",
       "      <td>Series F</td>\n",
       "      <td>United States.</td>\n",
       "      <td>1200.0</td>\n",
       "    </tr>\n",
       "    <tr>\n",
       "      <th>34</th>\n",
       "      <td>Palantir</td>\n",
       "      <td>Denver</td>\n",
       "      <td>Data</td>\n",
       "      <td>75.0</td>\n",
       "      <td>0.02</td>\n",
       "      <td>2/27/2023</td>\n",
       "      <td>Post-IPO</td>\n",
       "      <td>United States.</td>\n",
       "      <td>3000.0</td>\n",
       "    </tr>\n",
       "    <tr>\n",
       "      <th>102</th>\n",
       "      <td>Twilio</td>\n",
       "      <td>SF Bay Area</td>\n",
       "      <td>Other</td>\n",
       "      <td>1500.0</td>\n",
       "      <td>0.17</td>\n",
       "      <td>2/13/2023</td>\n",
       "      <td>Post-IPO</td>\n",
       "      <td>United States.</td>\n",
       "      <td>614.0</td>\n",
       "    </tr>\n",
       "    <tr>\n",
       "      <th>912</th>\n",
       "      <td>Landing</td>\n",
       "      <td>Birmingham</td>\n",
       "      <td>Real Estate</td>\n",
       "      <td>110.0</td>\n",
       "      <td>NaN</td>\n",
       "      <td>10/6/2022</td>\n",
       "      <td>Series C</td>\n",
       "      <td>United States.</td>\n",
       "      <td>347.0</td>\n",
       "    </tr>\n",
       "  </tbody>\n",
       "</table>\n",
       "</div>"
      ],
      "text/plain": [
       "      company     location     industry  total_laid_off  percentage_laid_off  \\\n",
       "10     Indigo       Boston        Other             NaN                  NaN   \n",
       "34   Palantir       Denver         Data            75.0                 0.02   \n",
       "102    Twilio  SF Bay Area        Other          1500.0                 0.17   \n",
       "912   Landing   Birmingham  Real Estate           110.0                  NaN   \n",
       "\n",
       "          date     stage         country  funds_raised_millions  \n",
       "10    3/3/2023  Series F  United States.                 1200.0  \n",
       "34   2/27/2023  Post-IPO  United States.                 3000.0  \n",
       "102  2/13/2023  Post-IPO  United States.                  614.0  \n",
       "912  10/6/2022  Series C  United States.                  347.0  "
      ]
     },
     "execution_count": 38,
     "metadata": {},
     "output_type": "execute_result"
    }
   ],
   "source": [
    "df[df['country'] == 'United States.']"
   ]
  },
  {
   "cell_type": "markdown",
   "metadata": {},
   "source": [
    "The `replace()` method in pandas is used to **substitute specific values** in a column or DataFrame. "
   ]
  },
  {
   "cell_type": "code",
   "execution_count": 39,
   "metadata": {},
   "outputs": [
    {
     "name": "stderr",
     "output_type": "stream",
     "text": [
      "C:\\Users\\PC\\AppData\\Local\\Temp\\ipykernel_228\\3426635371.py:1: FutureWarning: A value is trying to be set on a copy of a DataFrame or Series through chained assignment using an inplace method.\n",
      "The behavior will change in pandas 3.0. This inplace method will never work because the intermediate object on which we are setting values always behaves as a copy.\n",
      "\n",
      "For example, when doing 'df[col].method(value, inplace=True)', try using 'df.method({col: value}, inplace=True)' or df[col] = df[col].method(value) instead, to perform the operation inplace on the original object.\n",
      "\n",
      "\n",
      "  df['country'].replace('United States.', 'United States',inplace=True)\n"
     ]
    }
   ],
   "source": [
    "df['country'].replace('United States.', 'United States',inplace=True)\n"
   ]
  },
  {
   "cell_type": "code",
   "execution_count": 40,
   "metadata": {},
   "outputs": [
    {
     "data": {
      "application/vnd.microsoft.datawrangler.viewer.v0+json": {
       "columns": [
        {
         "name": "index",
         "rawType": "int64",
         "type": "integer"
        },
        {
         "name": "company",
         "rawType": "object",
         "type": "string"
        },
        {
         "name": "location",
         "rawType": "object",
         "type": "string"
        },
        {
         "name": "industry",
         "rawType": "object",
         "type": "string"
        },
        {
         "name": "total_laid_off",
         "rawType": "float64",
         "type": "float"
        },
        {
         "name": "percentage_laid_off",
         "rawType": "float64",
         "type": "float"
        },
        {
         "name": "date",
         "rawType": "object",
         "type": "string"
        },
        {
         "name": "stage",
         "rawType": "object",
         "type": "string"
        },
        {
         "name": "country",
         "rawType": "object",
         "type": "string"
        },
        {
         "name": "funds_raised_millions",
         "rawType": "float64",
         "type": "float"
        }
       ],
       "conversionMethod": "pd.DataFrame",
       "ref": "7a2fd729-e98a-4ceb-a022-63f9ba8c9490",
       "rows": [],
       "shape": {
        "columns": 9,
        "rows": 0
       }
      },
      "text/html": [
       "<div>\n",
       "<style scoped>\n",
       "    .dataframe tbody tr th:only-of-type {\n",
       "        vertical-align: middle;\n",
       "    }\n",
       "\n",
       "    .dataframe tbody tr th {\n",
       "        vertical-align: top;\n",
       "    }\n",
       "\n",
       "    .dataframe thead th {\n",
       "        text-align: right;\n",
       "    }\n",
       "</style>\n",
       "<table border=\"1\" class=\"dataframe\">\n",
       "  <thead>\n",
       "    <tr style=\"text-align: right;\">\n",
       "      <th></th>\n",
       "      <th>company</th>\n",
       "      <th>location</th>\n",
       "      <th>industry</th>\n",
       "      <th>total_laid_off</th>\n",
       "      <th>percentage_laid_off</th>\n",
       "      <th>date</th>\n",
       "      <th>stage</th>\n",
       "      <th>country</th>\n",
       "      <th>funds_raised_millions</th>\n",
       "    </tr>\n",
       "  </thead>\n",
       "  <tbody>\n",
       "  </tbody>\n",
       "</table>\n",
       "</div>"
      ],
      "text/plain": [
       "Empty DataFrame\n",
       "Columns: [company, location, industry, total_laid_off, percentage_laid_off, date, stage, country, funds_raised_millions]\n",
       "Index: []"
      ]
     },
     "execution_count": 40,
     "metadata": {},
     "output_type": "execute_result"
    }
   ],
   "source": [
    "df[df['country'] == 'United States.']"
   ]
  },
  {
   "cell_type": "markdown",
   "metadata": {},
   "source": [
    "#### Check for Empty or Null Values:\n",
    "\n",
    "Missing values or empty strings could indicate noise"
   ]
  },
  {
   "cell_type": "code",
   "execution_count": 41,
   "metadata": {},
   "outputs": [
    {
     "data": {
      "text/plain": [
       "np.int64(0)"
      ]
     },
     "execution_count": 41,
     "metadata": {},
     "output_type": "execute_result"
    }
   ],
   "source": [
    "df['country'].isnull().sum()  # Count missing values\n"
   ]
  },
  {
   "cell_type": "code",
   "execution_count": 42,
   "metadata": {},
   "outputs": [
    {
     "data": {
      "application/vnd.microsoft.datawrangler.viewer.v0+json": {
       "columns": [
        {
         "name": "index",
         "rawType": "int64",
         "type": "integer"
        },
        {
         "name": "company",
         "rawType": "object",
         "type": "string"
        },
        {
         "name": "location",
         "rawType": "object",
         "type": "string"
        },
        {
         "name": "industry",
         "rawType": "object",
         "type": "string"
        },
        {
         "name": "total_laid_off",
         "rawType": "float64",
         "type": "float"
        },
        {
         "name": "percentage_laid_off",
         "rawType": "float64",
         "type": "float"
        },
        {
         "name": "date",
         "rawType": "object",
         "type": "string"
        },
        {
         "name": "stage",
         "rawType": "object",
         "type": "string"
        },
        {
         "name": "country",
         "rawType": "object",
         "type": "string"
        },
        {
         "name": "funds_raised_millions",
         "rawType": "float64",
         "type": "float"
        }
       ],
       "conversionMethod": "pd.DataFrame",
       "ref": "c2ab0496-67d1-47e0-a229-19f9f68009ab",
       "rows": [],
       "shape": {
        "columns": 9,
        "rows": 0
       }
      },
      "text/html": [
       "<div>\n",
       "<style scoped>\n",
       "    .dataframe tbody tr th:only-of-type {\n",
       "        vertical-align: middle;\n",
       "    }\n",
       "\n",
       "    .dataframe tbody tr th {\n",
       "        vertical-align: top;\n",
       "    }\n",
       "\n",
       "    .dataframe thead th {\n",
       "        text-align: right;\n",
       "    }\n",
       "</style>\n",
       "<table border=\"1\" class=\"dataframe\">\n",
       "  <thead>\n",
       "    <tr style=\"text-align: right;\">\n",
       "      <th></th>\n",
       "      <th>company</th>\n",
       "      <th>location</th>\n",
       "      <th>industry</th>\n",
       "      <th>total_laid_off</th>\n",
       "      <th>percentage_laid_off</th>\n",
       "      <th>date</th>\n",
       "      <th>stage</th>\n",
       "      <th>country</th>\n",
       "      <th>funds_raised_millions</th>\n",
       "    </tr>\n",
       "  </thead>\n",
       "  <tbody>\n",
       "  </tbody>\n",
       "</table>\n",
       "</div>"
      ],
      "text/plain": [
       "Empty DataFrame\n",
       "Columns: [company, location, industry, total_laid_off, percentage_laid_off, date, stage, country, funds_raised_millions]\n",
       "Index: []"
      ]
     },
     "execution_count": 42,
     "metadata": {},
     "output_type": "execute_result"
    }
   ],
   "source": [
    "df[df['country'] == '']  # Check for empty strings"
   ]
  },
  {
   "cell_type": "markdown",
   "metadata": {},
   "source": [
    " # Check for Outliers or Unexpected Categories:\n",
    "   - Sometimes, unexpected values might appear, such as \"Unknown\", \"Other\", or even non-country data. You can list unique values to spot any outliers:"
   ]
  },
  {
   "cell_type": "code",
   "execution_count": 43,
   "metadata": {},
   "outputs": [
    {
     "data": {
      "text/plain": [
       "array(['Australia', 'United States', 'Nigeria', 'India', 'Brazil',\n",
       "       'France', 'Germany', 'Israel', 'Sweden', 'United Kingdom', 'Japan',\n",
       "       'South Korea', 'China', 'Italy', 'Singapore', 'Indonesia',\n",
       "       'Estonia', 'Canada', 'Ireland', 'Finland', 'Netherlands', 'Spain',\n",
       "       'Portugal', 'Chile', 'Colombia', 'Argentina', 'Seychelles',\n",
       "       'Austria', 'Mexico', 'Switzerland', 'Egypt', 'Kenya', 'Luxembourg',\n",
       "       'Greece', 'Poland', 'Norway', 'Belgium', 'Denmark', 'Hong Kong',\n",
       "       'New Zealand', 'Malaysia', 'Hungary', 'Vietnam', 'Thailand',\n",
       "       'Lithuania', 'Ghana', 'Senegal', 'Pakistan',\n",
       "       'United Arab Emirates', 'Peru', 'Bahrain', 'Romania', 'Turkey',\n",
       "       'Russia', 'Uruguay', 'Bulgaria', 'South Africa', 'Czech Republic',\n",
       "       'Myanmar'], dtype=object)"
      ]
     },
     "execution_count": 43,
     "metadata": {},
     "output_type": "execute_result"
    }
   ],
   "source": [
    "df['country'].unique()"
   ]
  },
  {
   "cell_type": "markdown",
   "metadata": {},
   "source": []
  },
  {
   "cell_type": "code",
   "execution_count": 44,
   "metadata": {},
   "outputs": [
    {
     "data": {
      "text/plain": [
       "country\n",
       "Argentina                  6\n",
       "Australia                 54\n",
       "Austria                    3\n",
       "Bahrain                    1\n",
       "Belgium                    1\n",
       "Brazil                    76\n",
       "Bulgaria                   1\n",
       "Canada                    99\n",
       "Chile                      3\n",
       "China                     18\n",
       "Colombia                   4\n",
       "Czech Republic             1\n",
       "Denmark                    4\n",
       "Egypt                      2\n",
       "Estonia                    5\n",
       "Finland                    4\n",
       "France                     7\n",
       "Germany                   68\n",
       "Ghana                      1\n",
       "Greece                     1\n",
       "Hong Kong                  5\n",
       "Hungary                    1\n",
       "India                    148\n",
       "Indonesia                 24\n",
       "Ireland                    5\n",
       "Israel                    55\n",
       "Italy                      1\n",
       "Japan                      1\n",
       "Kenya                      6\n",
       "Lithuania                  1\n",
       "Luxembourg                 3\n",
       "Malaysia                   3\n",
       "Mexico                     4\n",
       "Myanmar                    1\n",
       "Netherlands               13\n",
       "New Zealand                2\n",
       "Nigeria                   15\n",
       "Norway                     4\n",
       "Pakistan                   3\n",
       "Peru                       1\n",
       "Poland                     1\n",
       "Portugal                   3\n",
       "Romania                    1\n",
       "Russia                     1\n",
       "Senegal                    1\n",
       "Seychelles                 4\n",
       "Singapore                 34\n",
       "South Africa               1\n",
       "South Korea                2\n",
       "Spain                      3\n",
       "Sweden                    20\n",
       "Switzerland                2\n",
       "Thailand                   1\n",
       "Turkey                     1\n",
       "United Arab Emirates       6\n",
       "United Kingdom            73\n",
       "United States           1543\n",
       "Uruguay                    1\n",
       "Vietnam                    3\n",
       "Name: count, dtype: int64"
      ]
     },
     "execution_count": 44,
     "metadata": {},
     "output_type": "execute_result"
    }
   ],
   "source": [
    "df['country'].value_counts().sort_index()"
   ]
  },
  {
   "cell_type": "markdown",
   "metadata": {},
   "source": [
    " ### Visualize the Distribution:\n",
    "   - A quick visualization can help spot anomalies or trends that indicate noise. You can plot the distribution of countries using a bar plot:"
   ]
  },
  {
   "cell_type": "code",
   "execution_count": 45,
   "metadata": {},
   "outputs": [
    {
     "data": {
      "text/plain": [
       "<Axes: xlabel='country'>"
      ]
     },
     "execution_count": 45,
     "metadata": {},
     "output_type": "execute_result"
    },
    {
     "data": {
      "image/png": "[encoded data removed]",
      "text/plain": [
       "<Figure size 640x480 with 1 Axes>"
      ]
     },
     "metadata": {},
     "output_type": "display_data"
    }
   ],
   "source": [
    "df['country'].value_counts().plot(kind='bar')"
   ]
  },
  {
   "cell_type": "code",
   "execution_count": 46,
   "metadata": {},
   "outputs": [],
   "source": [
    "top_countries = df['country'].value_counts().head(10)"
   ]
  },
  {
   "cell_type": "code",
   "execution_count": 47,
   "metadata": {},
   "outputs": [
    {
     "data": {
      "text/plain": [
       "<Axes: xlabel='country'>"
      ]
     },
     "execution_count": 47,
     "metadata": {},
     "output_type": "execute_result"
    },
    {
     "data": {
      "image/png": "[encoded data removed]",
      "text/plain": [
       "<Figure size 1000x600 with 1 Axes>"
      ]
     },
     "metadata": {},
     "output_type": "display_data"
    }
   ],
   "source": [
    "top_countries.plot(kind='bar', color='skyblue', figsize=(10, 6))"
   ]
  },
  {
   "cell_type": "code",
   "execution_count": 48,
   "metadata": {},
   "outputs": [
    {
     "name": "stdout",
     "output_type": "stream",
     "text": [
      "<class 'pandas.core.frame.DataFrame'>\n",
      "Index: 2356 entries, 0 to 2356\n",
      "Data columns (total 9 columns):\n",
      " #   Column                 Non-Null Count  Dtype  \n",
      "---  ------                 --------------  -----  \n",
      " 0   company                2356 non-null   object \n",
      " 1   location               2356 non-null   object \n",
      " 2   industry               2352 non-null   object \n",
      " 3   total_laid_off         1617 non-null   float64\n",
      " 4   percentage_laid_off    1572 non-null   float64\n",
      " 5   date                   2355 non-null   object \n",
      " 6   stage                  2350 non-null   object \n",
      " 7   country                2356 non-null   object \n",
      " 8   funds_raised_millions  2147 non-null   float64\n",
      "dtypes: float64(3), object(6)\n",
      "memory usage: 184.1+ KB\n"
     ]
    }
   ],
   "source": [
    "df.info()\n"
   ]
  },
  {
   "cell_type": "code",
   "execution_count": 49,
   "metadata": {},
   "outputs": [
    {
     "data": {
      "text/plain": [
       "array(['Sydney', 'New York City', 'Ibadan', 'Mumbai', 'Sao Paulo',\n",
       "       'SF Bay Area', 'Seattle', 'Boston', 'Blumenau', 'Pune',\n",
       "       'Bengaluru', 'Los Angeles', 'Boise', 'Chicago', 'Paris',\n",
       "       'Baton Rouge', 'Munich', 'Denver', 'Tel Aviv', 'Stockholm',\n",
       "       'Orlando', 'Ann Arbor', 'Berlin', 'Vancouver', 'Washington D.C.',\n",
       "       'London', 'San Antonio', 'St. Louis', 'Pittsburgh', 'Tokyo',\n",
       "       'Lagos', 'Seoul', 'Chennai', 'Shenzen', 'Portland', 'Atlanta',\n",
       "       'Albany', 'Milan', 'Singapore', 'Jakarta', 'Philadelphia',\n",
       "       'Columbus', 'Tallinn', 'Phoenix', 'Toronto', 'Melbourne', 'Dublin',\n",
       "       'Austin', 'New Delhi', 'Manchester', 'Miami', 'Helsinki',\n",
       "       'Detroit', 'Frankfurt', 'Waterloo', 'Amsterdam', 'Barcelona',\n",
       "       'Karlsruhe', 'Curitiba', 'Charlotte', 'Las Vegas', 'New Haven',\n",
       "       'Montreal', 'Coimbra', 'Walldorf', 'Jersey City', 'Reno', 'Kiel',\n",
       "       'Gurugram', 'Nashville', 'Mexico City', 'Oxford', 'Calgary',\n",
       "       'Boulder', 'Wilmington', 'Cincinnati', 'Providence', 'Santiago',\n",
       "       'Dallas', 'Bogota', 'Buenos Aires', 'Indore', 'Patna', 'Brisbane',\n",
       "       'Bismarck', 'Baltimore', 'Salt Lake City', 'San Diego', 'Beijing',\n",
       "       'Grand Rapids', 'Shanghai', 'Beau Vallon', 'Hamburg', 'Vienna',\n",
       "       'Birmingham', 'Kansas City', 'Raleigh', 'Milwaukee', 'Lehi',\n",
       "       'Burlington', 'Bend', 'Sacramento', 'Guadalajara', 'Zug', 'Cairo',\n",
       "       'Dubai', 'Gothenburg', 'Nairobi', 'Dover', 'Luxembourg', 'Malmö',\n",
       "       'Lexington', 'Stamford', 'Logan', 'Eindhoven', 'Athens',\n",
       "       'Minneapolis', 'Krakow', 'Hyderabad', 'Nebraska City',\n",
       "       'Copenhagen', 'Non-U.S.', 'Trondheim', 'Oslo', 'Düsseldorf',\n",
       "       'San Luis Obispo', 'Jerusalem', 'Belo Horizonte', 'Brussels',\n",
       "       'Noida', 'The Hague', 'Hong Kong', 'Auckland', 'Kuala Lumpur',\n",
       "       'Bristol', 'Budapest', 'Ho Chi Minh City', 'Winnipeg', 'Bangkok',\n",
       "       'Vilnius', 'Ottawa', 'Richmond', 'Accra', 'Saskatoon',\n",
       "       'Porto Alegre', 'Indianapolis', 'Victoria', 'Ferdericton', 'Dakar',\n",
       "       'Florianópolis', 'Lahore', 'Santa Barbara', 'Durham', 'Louisville',\n",
       "       'Nashua', 'Huntsville', 'Spokane', 'Lima', 'Houston', 'Malmo',\n",
       "       'Brasilia', 'Selangor', 'Manama', 'Karachi', 'Bucharest',\n",
       "       'Istanbul', 'Moscow', 'Davenport', 'Toulouse', 'Montevideo',\n",
       "       'Edinburgh', 'Fayetteville', 'Madison', 'Sofia', 'Santa Fe',\n",
       "       'Cork', 'Ahmedabad', 'Joinville', 'Hanoi', 'Norwalk', 'Zurich',\n",
       "       'Dusseldorf', 'Lisbon', 'Cape Town', 'Missoula', 'Quebec',\n",
       "       'Prague', 'Yangon', 'New Orleans', 'Tampa Bay', 'Charleston'],\n",
       "      dtype=object)"
      ]
     },
     "execution_count": 49,
     "metadata": {},
     "output_type": "execute_result"
    }
   ],
   "source": [
    "df['location'].unique()"
   ]
  },
  {
   "cell_type": "code",
   "execution_count": null,
   "metadata": {},
   "outputs": [],
   "source": []
  },
  {
   "cell_type": "code",
   "execution_count": 50,
   "metadata": {},
   "outputs": [
    {
     "data": {
      "application/vnd.microsoft.datawrangler.viewer.v0+json": {
       "columns": [
        {
         "name": "index",
         "rawType": "int64",
         "type": "integer"
        },
        {
         "name": "company",
         "rawType": "object",
         "type": "string"
        },
        {
         "name": "location",
         "rawType": "object",
         "type": "string"
        },
        {
         "name": "industry",
         "rawType": "object",
         "type": "string"
        },
        {
         "name": "total_laid_off",
         "rawType": "float64",
         "type": "float"
        },
        {
         "name": "percentage_laid_off",
         "rawType": "float64",
         "type": "float"
        },
        {
         "name": "date",
         "rawType": "object",
         "type": "string"
        },
        {
         "name": "stage",
         "rawType": "object",
         "type": "string"
        },
        {
         "name": "country",
         "rawType": "object",
         "type": "string"
        },
        {
         "name": "funds_raised_millions",
         "rawType": "float64",
         "type": "float"
        }
       ],
       "conversionMethod": "pd.DataFrame",
       "ref": "44ddaa5a-2bc6-4429-941c-e7835ddab7a5",
       "rows": [
        [
         "809",
         "BitMEX",
         "Non-U.S.",
         "Crypto",
         null,
         "0.3",
         "11/2/2022",
         "Seed",
         "Seychelles",
         "0.0"
        ],
        [
         "1642",
         "BitMEX",
         "Non-U.S.",
         "Crypto",
         "75.0",
         "0.25",
         "4/4/2022",
         "Seed",
         "Seychelles",
         "0.0"
        ],
        [
         "1660",
         "WeDoctor",
         "Non-U.S.",
         "Healthcare",
         "500.0",
         null,
         "3/2/2022",
         "Series F",
         "China",
         "1400.0"
        ]
       ],
       "shape": {
        "columns": 9,
        "rows": 3
       }
      },
      "text/html": [
       "<div>\n",
       "<style scoped>\n",
       "    .dataframe tbody tr th:only-of-type {\n",
       "        vertical-align: middle;\n",
       "    }\n",
       "\n",
       "    .dataframe tbody tr th {\n",
       "        vertical-align: top;\n",
       "    }\n",
       "\n",
       "    .dataframe thead th {\n",
       "        text-align: right;\n",
       "    }\n",
       "</style>\n",
       "<table border=\"1\" class=\"dataframe\">\n",
       "  <thead>\n",
       "    <tr style=\"text-align: right;\">\n",
       "      <th></th>\n",
       "      <th>company</th>\n",
       "      <th>location</th>\n",
       "      <th>industry</th>\n",
       "      <th>total_laid_off</th>\n",
       "      <th>percentage_laid_off</th>\n",
       "      <th>date</th>\n",
       "      <th>stage</th>\n",
       "      <th>country</th>\n",
       "      <th>funds_raised_millions</th>\n",
       "    </tr>\n",
       "  </thead>\n",
       "  <tbody>\n",
       "    <tr>\n",
       "      <th>809</th>\n",
       "      <td>BitMEX</td>\n",
       "      <td>Non-U.S.</td>\n",
       "      <td>Crypto</td>\n",
       "      <td>NaN</td>\n",
       "      <td>0.30</td>\n",
       "      <td>11/2/2022</td>\n",
       "      <td>Seed</td>\n",
       "      <td>Seychelles</td>\n",
       "      <td>0.0</td>\n",
       "    </tr>\n",
       "    <tr>\n",
       "      <th>1642</th>\n",
       "      <td>BitMEX</td>\n",
       "      <td>Non-U.S.</td>\n",
       "      <td>Crypto</td>\n",
       "      <td>75.0</td>\n",
       "      <td>0.25</td>\n",
       "      <td>4/4/2022</td>\n",
       "      <td>Seed</td>\n",
       "      <td>Seychelles</td>\n",
       "      <td>0.0</td>\n",
       "    </tr>\n",
       "    <tr>\n",
       "      <th>1660</th>\n",
       "      <td>WeDoctor</td>\n",
       "      <td>Non-U.S.</td>\n",
       "      <td>Healthcare</td>\n",
       "      <td>500.0</td>\n",
       "      <td>NaN</td>\n",
       "      <td>3/2/2022</td>\n",
       "      <td>Series F</td>\n",
       "      <td>China</td>\n",
       "      <td>1400.0</td>\n",
       "    </tr>\n",
       "  </tbody>\n",
       "</table>\n",
       "</div>"
      ],
      "text/plain": [
       "       company  location    industry  total_laid_off  percentage_laid_off  \\\n",
       "809     BitMEX  Non-U.S.      Crypto             NaN                 0.30   \n",
       "1642    BitMEX  Non-U.S.      Crypto            75.0                 0.25   \n",
       "1660  WeDoctor  Non-U.S.  Healthcare           500.0                  NaN   \n",
       "\n",
       "           date     stage     country  funds_raised_millions  \n",
       "809   11/2/2022      Seed  Seychelles                    0.0  \n",
       "1642   4/4/2022      Seed  Seychelles                    0.0  \n",
       "1660   3/2/2022  Series F       China                 1400.0  "
      ]
     },
     "execution_count": 50,
     "metadata": {},
     "output_type": "execute_result"
    }
   ],
   "source": [
    "df[df['location']=='Non-U.S.']"
   ]
  },
  {
   "cell_type": "code",
   "execution_count": 51,
   "metadata": {},
   "outputs": [
    {
     "data": {
      "text/plain": [
       "array(['Other', 'Media', 'Retail', 'Education', 'Real Estate',\n",
       "       'Transportation', 'Marketing', nan, 'Healthcare', 'Security',\n",
       "       'Food', 'Fitness', 'Consumer', 'Logistics', 'HR', 'Support',\n",
       "       'Travel', 'Crypto', 'Finance', 'Data', 'Sales', 'Infrastructure',\n",
       "       'Hardware', 'Product', 'Construction', 'Legal', 'Energy',\n",
       "       'Manufacturing', 'Recruiting', 'Aerospace', 'Crypto Currency',\n",
       "       'Fin-Tech', 'CryptoCurrency'], dtype=object)"
      ]
     },
     "execution_count": 51,
     "metadata": {},
     "output_type": "execute_result"
    }
   ],
   "source": [
    "df['industry'].unique()"
   ]
  },
  {
   "cell_type": "markdown",
   "metadata": {},
   "source": [
    "## Here are the steps for cleaning the industry column"
   ]
  },
  {
   "cell_type": "markdown",
   "metadata": {},
   "source": [
    "### Standardize Similar Values\n",
    "For similar values like Crypto, Crypto Currency, and CryptoCurrency, replace them with a unified value:"
   ]
  },
  {
   "cell_type": "code",
   "execution_count": 52,
   "metadata": {},
   "outputs": [],
   "source": [
    "df['industry'] = df['industry'].replace(\n",
    "    ['Crypto', 'Crypto Currency', 'CryptoCurrency'], \n",
    "    'Crypto'\n",
    ")\n"
   ]
  },
  {
   "cell_type": "markdown",
   "metadata": {},
   "source": [
    "## Review Unique Values\n",
    "After cleaning, check the unique values in the column to ensure the changes are correct:"
   ]
  },
  {
   "cell_type": "code",
   "execution_count": 53,
   "metadata": {},
   "outputs": [
    {
     "data": {
      "text/plain": [
       "array(['Other', 'Media', 'Retail', 'Education', 'Real Estate',\n",
       "       'Transportation', 'Marketing', nan, 'Healthcare', 'Security',\n",
       "       'Food', 'Fitness', 'Consumer', 'Logistics', 'HR', 'Support',\n",
       "       'Travel', 'Crypto', 'Finance', 'Data', 'Sales', 'Infrastructure',\n",
       "       'Hardware', 'Product', 'Construction', 'Legal', 'Energy',\n",
       "       'Manufacturing', 'Recruiting', 'Aerospace', 'Fin-Tech'],\n",
       "      dtype=object)"
      ]
     },
     "execution_count": 53,
     "metadata": {},
     "output_type": "execute_result"
    }
   ],
   "source": [
    "df['industry'].unique()"
   ]
  },
  {
   "cell_type": "code",
   "execution_count": 54,
   "metadata": {},
   "outputs": [
    {
     "data": {
      "application/vnd.microsoft.datawrangler.viewer.v0+json": {
       "columns": [
        {
         "name": "index",
         "rawType": "int64",
         "type": "integer"
        },
        {
         "name": "company",
         "rawType": "object",
         "type": "string"
        },
        {
         "name": "location",
         "rawType": "object",
         "type": "string"
        },
        {
         "name": "industry",
         "rawType": "object",
         "type": "unknown"
        },
        {
         "name": "total_laid_off",
         "rawType": "float64",
         "type": "float"
        },
        {
         "name": "percentage_laid_off",
         "rawType": "float64",
         "type": "float"
        },
        {
         "name": "date",
         "rawType": "object",
         "type": "string"
        },
        {
         "name": "stage",
         "rawType": "object",
         "type": "string"
        },
        {
         "name": "country",
         "rawType": "object",
         "type": "string"
        },
        {
         "name": "funds_raised_millions",
         "rawType": "float64",
         "type": "float"
        }
       ],
       "conversionMethod": "pd.DataFrame",
       "ref": "3666608b-a0ab-4b88-92b0-42b8c1bcab38",
       "rows": [
        [
         "8",
         "Airbnb",
         "SF Bay Area",
         null,
         "30.0",
         null,
         "3/3/2023",
         "Post-IPO",
         "United States",
         "6400.0"
        ],
        [
         "330",
         "Bally's Interactive",
         "Providence",
         null,
         null,
         "0.15",
         "1/18/2023",
         "Post-IPO",
         "United States",
         "946.0"
        ],
        [
         "736",
         "Juul",
         "SF Bay Area",
         null,
         "400.0",
         "0.3",
         "11/10/2022",
         "Unknown",
         "United States",
         "1500.0"
        ],
        [
         "1595",
         "Carvana",
         "Phoenix",
         null,
         "2500.0",
         "0.12",
         "5/10/2022",
         "Post-IPO",
         "United States",
         "1600.0"
        ]
       ],
       "shape": {
        "columns": 9,
        "rows": 4
       }
      },
      "text/html": [
       "<div>\n",
       "<style scoped>\n",
       "    .dataframe tbody tr th:only-of-type {\n",
       "        vertical-align: middle;\n",
       "    }\n",
       "\n",
       "    .dataframe tbody tr th {\n",
       "        vertical-align: top;\n",
       "    }\n",
       "\n",
       "    .dataframe thead th {\n",
       "        text-align: right;\n",
       "    }\n",
       "</style>\n",
       "<table border=\"1\" class=\"dataframe\">\n",
       "  <thead>\n",
       "    <tr style=\"text-align: right;\">\n",
       "      <th></th>\n",
       "      <th>company</th>\n",
       "      <th>location</th>\n",
       "      <th>industry</th>\n",
       "      <th>total_laid_off</th>\n",
       "      <th>percentage_laid_off</th>\n",
       "      <th>date</th>\n",
       "      <th>stage</th>\n",
       "      <th>country</th>\n",
       "      <th>funds_raised_millions</th>\n",
       "    </tr>\n",
       "  </thead>\n",
       "  <tbody>\n",
       "    <tr>\n",
       "      <th>8</th>\n",
       "      <td>Airbnb</td>\n",
       "      <td>SF Bay Area</td>\n",
       "      <td>NaN</td>\n",
       "      <td>30.0</td>\n",
       "      <td>NaN</td>\n",
       "      <td>3/3/2023</td>\n",
       "      <td>Post-IPO</td>\n",
       "      <td>United States</td>\n",
       "      <td>6400.0</td>\n",
       "    </tr>\n",
       "    <tr>\n",
       "      <th>330</th>\n",
       "      <td>Bally's Interactive</td>\n",
       "      <td>Providence</td>\n",
       "      <td>NaN</td>\n",
       "      <td>NaN</td>\n",
       "      <td>0.15</td>\n",
       "      <td>1/18/2023</td>\n",
       "      <td>Post-IPO</td>\n",
       "      <td>United States</td>\n",
       "      <td>946.0</td>\n",
       "    </tr>\n",
       "    <tr>\n",
       "      <th>736</th>\n",
       "      <td>Juul</td>\n",
       "      <td>SF Bay Area</td>\n",
       "      <td>NaN</td>\n",
       "      <td>400.0</td>\n",
       "      <td>0.30</td>\n",
       "      <td>11/10/2022</td>\n",
       "      <td>Unknown</td>\n",
       "      <td>United States</td>\n",
       "      <td>1500.0</td>\n",
       "    </tr>\n",
       "    <tr>\n",
       "      <th>1595</th>\n",
       "      <td>Carvana</td>\n",
       "      <td>Phoenix</td>\n",
       "      <td>NaN</td>\n",
       "      <td>2500.0</td>\n",
       "      <td>0.12</td>\n",
       "      <td>5/10/2022</td>\n",
       "      <td>Post-IPO</td>\n",
       "      <td>United States</td>\n",
       "      <td>1600.0</td>\n",
       "    </tr>\n",
       "  </tbody>\n",
       "</table>\n",
       "</div>"
      ],
      "text/plain": [
       "                  company     location industry  total_laid_off  \\\n",
       "8                  Airbnb  SF Bay Area      NaN            30.0   \n",
       "330   Bally's Interactive   Providence      NaN             NaN   \n",
       "736                  Juul  SF Bay Area      NaN           400.0   \n",
       "1595              Carvana      Phoenix      NaN          2500.0   \n",
       "\n",
       "      percentage_laid_off        date     stage        country  \\\n",
       "8                     NaN    3/3/2023  Post-IPO  United States   \n",
       "330                  0.15   1/18/2023  Post-IPO  United States   \n",
       "736                  0.30  11/10/2022   Unknown  United States   \n",
       "1595                 0.12   5/10/2022  Post-IPO  United States   \n",
       "\n",
       "      funds_raised_millions  \n",
       "8                    6400.0  \n",
       "330                   946.0  \n",
       "736                  1500.0  \n",
       "1595                 1600.0  "
      ]
     },
     "execution_count": 54,
     "metadata": {},
     "output_type": "execute_result"
    }
   ],
   "source": [
    "df[df['industry'].isna()]"
   ]
  },
  {
   "cell_type": "code",
   "execution_count": 55,
   "metadata": {},
   "outputs": [
    {
     "data": {
      "application/vnd.microsoft.datawrangler.viewer.v0+json": {
       "columns": [
        {
         "name": "index",
         "rawType": "int64",
         "type": "integer"
        },
        {
         "name": "company",
         "rawType": "object",
         "type": "string"
        },
        {
         "name": "location",
         "rawType": "object",
         "type": "string"
        },
        {
         "name": "industry",
         "rawType": "object",
         "type": "unknown"
        },
        {
         "name": "total_laid_off",
         "rawType": "float64",
         "type": "float"
        },
        {
         "name": "percentage_laid_off",
         "rawType": "float64",
         "type": "float"
        },
        {
         "name": "date",
         "rawType": "object",
         "type": "string"
        },
        {
         "name": "stage",
         "rawType": "object",
         "type": "string"
        },
        {
         "name": "country",
         "rawType": "object",
         "type": "string"
        },
        {
         "name": "funds_raised_millions",
         "rawType": "float64",
         "type": "float"
        }
       ],
       "conversionMethod": "pd.DataFrame",
       "ref": "09ed0363-95f0-44ae-8817-bd370c4bd954",
       "rows": [
        [
         "8",
         "Airbnb",
         "SF Bay Area",
         null,
         "30.0",
         null,
         "3/3/2023",
         "Post-IPO",
         "United States",
         "6400.0"
        ],
        [
         "1936",
         "Airbnb",
         "SF Bay Area",
         "Travel",
         "1900.0",
         "0.25",
         "5/5/2020",
         "Private Equity",
         "United States",
         "5400.0"
        ]
       ],
       "shape": {
        "columns": 9,
        "rows": 2
       }
      },
      "text/html": [
       "<div>\n",
       "<style scoped>\n",
       "    .dataframe tbody tr th:only-of-type {\n",
       "        vertical-align: middle;\n",
       "    }\n",
       "\n",
       "    .dataframe tbody tr th {\n",
       "        vertical-align: top;\n",
       "    }\n",
       "\n",
       "    .dataframe thead th {\n",
       "        text-align: right;\n",
       "    }\n",
       "</style>\n",
       "<table border=\"1\" class=\"dataframe\">\n",
       "  <thead>\n",
       "    <tr style=\"text-align: right;\">\n",
       "      <th></th>\n",
       "      <th>company</th>\n",
       "      <th>location</th>\n",
       "      <th>industry</th>\n",
       "      <th>total_laid_off</th>\n",
       "      <th>percentage_laid_off</th>\n",
       "      <th>date</th>\n",
       "      <th>stage</th>\n",
       "      <th>country</th>\n",
       "      <th>funds_raised_millions</th>\n",
       "    </tr>\n",
       "  </thead>\n",
       "  <tbody>\n",
       "    <tr>\n",
       "      <th>8</th>\n",
       "      <td>Airbnb</td>\n",
       "      <td>SF Bay Area</td>\n",
       "      <td>NaN</td>\n",
       "      <td>30.0</td>\n",
       "      <td>NaN</td>\n",
       "      <td>3/3/2023</td>\n",
       "      <td>Post-IPO</td>\n",
       "      <td>United States</td>\n",
       "      <td>6400.0</td>\n",
       "    </tr>\n",
       "    <tr>\n",
       "      <th>1936</th>\n",
       "      <td>Airbnb</td>\n",
       "      <td>SF Bay Area</td>\n",
       "      <td>Travel</td>\n",
       "      <td>1900.0</td>\n",
       "      <td>0.25</td>\n",
       "      <td>5/5/2020</td>\n",
       "      <td>Private Equity</td>\n",
       "      <td>United States</td>\n",
       "      <td>5400.0</td>\n",
       "    </tr>\n",
       "  </tbody>\n",
       "</table>\n",
       "</div>"
      ],
      "text/plain": [
       "     company     location industry  total_laid_off  percentage_laid_off  \\\n",
       "8     Airbnb  SF Bay Area      NaN            30.0                  NaN   \n",
       "1936  Airbnb  SF Bay Area   Travel          1900.0                 0.25   \n",
       "\n",
       "          date           stage        country  funds_raised_millions  \n",
       "8     3/3/2023        Post-IPO  United States                 6400.0  \n",
       "1936  5/5/2020  Private Equity  United States                 5400.0  "
      ]
     },
     "execution_count": 55,
     "metadata": {},
     "output_type": "execute_result"
    }
   ],
   "source": [
    "df[df['company']=='Airbnb']"
   ]
  },
  {
   "cell_type": "code",
   "execution_count": 56,
   "metadata": {},
   "outputs": [],
   "source": [
    "df['industry'] = df.apply(\n",
    "    lambda row: 'Travel' if row['company'] == 'Airbnb' and pd.isna(row['industry']) else row['industry'],\n",
    "    axis=1\n",
    ")\n"
   ]
  },
  {
   "cell_type": "code",
   "execution_count": 57,
   "metadata": {},
   "outputs": [
    {
     "data": {
      "application/vnd.microsoft.datawrangler.viewer.v0+json": {
       "columns": [
        {
         "name": "index",
         "rawType": "int64",
         "type": "integer"
        },
        {
         "name": "company",
         "rawType": "object",
         "type": "string"
        },
        {
         "name": "location",
         "rawType": "object",
         "type": "string"
        },
        {
         "name": "industry",
         "rawType": "object",
         "type": "string"
        },
        {
         "name": "total_laid_off",
         "rawType": "float64",
         "type": "float"
        },
        {
         "name": "percentage_laid_off",
         "rawType": "float64",
         "type": "float"
        },
        {
         "name": "date",
         "rawType": "object",
         "type": "string"
        },
        {
         "name": "stage",
         "rawType": "object",
         "type": "string"
        },
        {
         "name": "country",
         "rawType": "object",
         "type": "string"
        },
        {
         "name": "funds_raised_millions",
         "rawType": "float64",
         "type": "float"
        }
       ],
       "conversionMethod": "pd.DataFrame",
       "ref": "be181cd5-4ca6-4d5b-a399-b2b72b116434",
       "rows": [
        [
         "8",
         "Airbnb",
         "SF Bay Area",
         "Travel",
         "30.0",
         null,
         "3/3/2023",
         "Post-IPO",
         "United States",
         "6400.0"
        ],
        [
         "1936",
         "Airbnb",
         "SF Bay Area",
         "Travel",
         "1900.0",
         "0.25",
         "5/5/2020",
         "Private Equity",
         "United States",
         "5400.0"
        ]
       ],
       "shape": {
        "columns": 9,
        "rows": 2
       }
      },
      "text/html": [
       "<div>\n",
       "<style scoped>\n",
       "    .dataframe tbody tr th:only-of-type {\n",
       "        vertical-align: middle;\n",
       "    }\n",
       "\n",
       "    .dataframe tbody tr th {\n",
       "        vertical-align: top;\n",
       "    }\n",
       "\n",
       "    .dataframe thead th {\n",
       "        text-align: right;\n",
       "    }\n",
       "</style>\n",
       "<table border=\"1\" class=\"dataframe\">\n",
       "  <thead>\n",
       "    <tr style=\"text-align: right;\">\n",
       "      <th></th>\n",
       "      <th>company</th>\n",
       "      <th>location</th>\n",
       "      <th>industry</th>\n",
       "      <th>total_laid_off</th>\n",
       "      <th>percentage_laid_off</th>\n",
       "      <th>date</th>\n",
       "      <th>stage</th>\n",
       "      <th>country</th>\n",
       "      <th>funds_raised_millions</th>\n",
       "    </tr>\n",
       "  </thead>\n",
       "  <tbody>\n",
       "    <tr>\n",
       "      <th>8</th>\n",
       "      <td>Airbnb</td>\n",
       "      <td>SF Bay Area</td>\n",
       "      <td>Travel</td>\n",
       "      <td>30.0</td>\n",
       "      <td>NaN</td>\n",
       "      <td>3/3/2023</td>\n",
       "      <td>Post-IPO</td>\n",
       "      <td>United States</td>\n",
       "      <td>6400.0</td>\n",
       "    </tr>\n",
       "    <tr>\n",
       "      <th>1936</th>\n",
       "      <td>Airbnb</td>\n",
       "      <td>SF Bay Area</td>\n",
       "      <td>Travel</td>\n",
       "      <td>1900.0</td>\n",
       "      <td>0.25</td>\n",
       "      <td>5/5/2020</td>\n",
       "      <td>Private Equity</td>\n",
       "      <td>United States</td>\n",
       "      <td>5400.0</td>\n",
       "    </tr>\n",
       "  </tbody>\n",
       "</table>\n",
       "</div>"
      ],
      "text/plain": [
       "     company     location industry  total_laid_off  percentage_laid_off  \\\n",
       "8     Airbnb  SF Bay Area   Travel            30.0                  NaN   \n",
       "1936  Airbnb  SF Bay Area   Travel          1900.0                 0.25   \n",
       "\n",
       "          date           stage        country  funds_raised_millions  \n",
       "8     3/3/2023        Post-IPO  United States                 6400.0  \n",
       "1936  5/5/2020  Private Equity  United States                 5400.0  "
      ]
     },
     "execution_count": 57,
     "metadata": {},
     "output_type": "execute_result"
    }
   ],
   "source": [
    "df[df['company']=='Airbnb']"
   ]
  },
  {
   "cell_type": "markdown",
   "metadata": {},
   "source": [
    "other commend"
   ]
  },
  {
   "cell_type": "code",
   "execution_count": 58,
   "metadata": {},
   "outputs": [
    {
     "name": "stderr",
     "output_type": "stream",
     "text": [
      "C:\\Users\\PC\\AppData\\Local\\Temp\\ipykernel_228\\1357762055.py:1: FutureWarning: A value is trying to be set on a copy of a DataFrame or Series through chained assignment using an inplace method.\n",
      "The behavior will change in pandas 3.0. This inplace method will never work because the intermediate object on which we are setting values always behaves as a copy.\n",
      "\n",
      "For example, when doing 'df[col].method(value, inplace=True)', try using 'df.method({col: value}, inplace=True)' or df[col] = df[col].method(value) instead, to perform the operation inplace on the original object.\n",
      "\n",
      "\n",
      "  df['industry'].where(df['company'] !='Airbnb','Travel', inplace=True)\n"
     ]
    }
   ],
   "source": [
    "df['industry'].where(df['company'] !='Airbnb','Travel', inplace=True)"
   ]
  },
  {
   "cell_type": "code",
   "execution_count": 59,
   "metadata": {},
   "outputs": [
    {
     "data": {
      "application/vnd.microsoft.datawrangler.viewer.v0+json": {
       "columns": [
        {
         "name": "index",
         "rawType": "int64",
         "type": "integer"
        },
        {
         "name": "company",
         "rawType": "object",
         "type": "string"
        },
        {
         "name": "location",
         "rawType": "object",
         "type": "string"
        },
        {
         "name": "industry",
         "rawType": "object",
         "type": "string"
        },
        {
         "name": "total_laid_off",
         "rawType": "float64",
         "type": "float"
        },
        {
         "name": "percentage_laid_off",
         "rawType": "float64",
         "type": "float"
        },
        {
         "name": "date",
         "rawType": "object",
         "type": "string"
        },
        {
         "name": "stage",
         "rawType": "object",
         "type": "string"
        },
        {
         "name": "country",
         "rawType": "object",
         "type": "string"
        },
        {
         "name": "funds_raised_millions",
         "rawType": "float64",
         "type": "float"
        }
       ],
       "conversionMethod": "pd.DataFrame",
       "ref": "0938b590-058b-4d6b-8c3e-46aa067a5680",
       "rows": [
        [
         "8",
         "Airbnb",
         "SF Bay Area",
         "Travel",
         "30.0",
         null,
         "3/3/2023",
         "Post-IPO",
         "United States",
         "6400.0"
        ],
        [
         "1936",
         "Airbnb",
         "SF Bay Area",
         "Travel",
         "1900.0",
         "0.25",
         "5/5/2020",
         "Private Equity",
         "United States",
         "5400.0"
        ]
       ],
       "shape": {
        "columns": 9,
        "rows": 2
       }
      },
      "text/html": [
       "<div>\n",
       "<style scoped>\n",
       "    .dataframe tbody tr th:only-of-type {\n",
       "        vertical-align: middle;\n",
       "    }\n",
       "\n",
       "    .dataframe tbody tr th {\n",
       "        vertical-align: top;\n",
       "    }\n",
       "\n",
       "    .dataframe thead th {\n",
       "        text-align: right;\n",
       "    }\n",
       "</style>\n",
       "<table border=\"1\" class=\"dataframe\">\n",
       "  <thead>\n",
       "    <tr style=\"text-align: right;\">\n",
       "      <th></th>\n",
       "      <th>company</th>\n",
       "      <th>location</th>\n",
       "      <th>industry</th>\n",
       "      <th>total_laid_off</th>\n",
       "      <th>percentage_laid_off</th>\n",
       "      <th>date</th>\n",
       "      <th>stage</th>\n",
       "      <th>country</th>\n",
       "      <th>funds_raised_millions</th>\n",
       "    </tr>\n",
       "  </thead>\n",
       "  <tbody>\n",
       "    <tr>\n",
       "      <th>8</th>\n",
       "      <td>Airbnb</td>\n",
       "      <td>SF Bay Area</td>\n",
       "      <td>Travel</td>\n",
       "      <td>30.0</td>\n",
       "      <td>NaN</td>\n",
       "      <td>3/3/2023</td>\n",
       "      <td>Post-IPO</td>\n",
       "      <td>United States</td>\n",
       "      <td>6400.0</td>\n",
       "    </tr>\n",
       "    <tr>\n",
       "      <th>1936</th>\n",
       "      <td>Airbnb</td>\n",
       "      <td>SF Bay Area</td>\n",
       "      <td>Travel</td>\n",
       "      <td>1900.0</td>\n",
       "      <td>0.25</td>\n",
       "      <td>5/5/2020</td>\n",
       "      <td>Private Equity</td>\n",
       "      <td>United States</td>\n",
       "      <td>5400.0</td>\n",
       "    </tr>\n",
       "  </tbody>\n",
       "</table>\n",
       "</div>"
      ],
      "text/plain": [
       "     company     location industry  total_laid_off  percentage_laid_off  \\\n",
       "8     Airbnb  SF Bay Area   Travel            30.0                  NaN   \n",
       "1936  Airbnb  SF Bay Area   Travel          1900.0                 0.25   \n",
       "\n",
       "          date           stage        country  funds_raised_millions  \n",
       "8     3/3/2023        Post-IPO  United States                 6400.0  \n",
       "1936  5/5/2020  Private Equity  United States                 5400.0  "
      ]
     },
     "execution_count": 59,
     "metadata": {},
     "output_type": "execute_result"
    }
   ],
   "source": [
    "df[df['company']=='Airbnb']"
   ]
  },
  {
   "cell_type": "code",
   "execution_count": 60,
   "metadata": {},
   "outputs": [
    {
     "data": {
      "application/vnd.microsoft.datawrangler.viewer.v0+json": {
       "columns": [
        {
         "name": "index",
         "rawType": "int64",
         "type": "integer"
        },
        {
         "name": "company",
         "rawType": "object",
         "type": "string"
        },
        {
         "name": "location",
         "rawType": "object",
         "type": "string"
        },
        {
         "name": "industry",
         "rawType": "object",
         "type": "unknown"
        },
        {
         "name": "total_laid_off",
         "rawType": "float64",
         "type": "float"
        },
        {
         "name": "percentage_laid_off",
         "rawType": "float64",
         "type": "float"
        },
        {
         "name": "date",
         "rawType": "object",
         "type": "string"
        },
        {
         "name": "stage",
         "rawType": "object",
         "type": "string"
        },
        {
         "name": "country",
         "rawType": "object",
         "type": "string"
        },
        {
         "name": "funds_raised_millions",
         "rawType": "float64",
         "type": "float"
        }
       ],
       "conversionMethod": "pd.DataFrame",
       "ref": "4af2f98a-ee26-427b-a9d7-1ef68c50a998",
       "rows": [
        [
         "330",
         "Bally's Interactive",
         "Providence",
         null,
         null,
         "0.15",
         "1/18/2023",
         "Post-IPO",
         "United States",
         "946.0"
        ]
       ],
       "shape": {
        "columns": 9,
        "rows": 1
       }
      },
      "text/html": [
       "<div>\n",
       "<style scoped>\n",
       "    .dataframe tbody tr th:only-of-type {\n",
       "        vertical-align: middle;\n",
       "    }\n",
       "\n",
       "    .dataframe tbody tr th {\n",
       "        vertical-align: top;\n",
       "    }\n",
       "\n",
       "    .dataframe thead th {\n",
       "        text-align: right;\n",
       "    }\n",
       "</style>\n",
       "<table border=\"1\" class=\"dataframe\">\n",
       "  <thead>\n",
       "    <tr style=\"text-align: right;\">\n",
       "      <th></th>\n",
       "      <th>company</th>\n",
       "      <th>location</th>\n",
       "      <th>industry</th>\n",
       "      <th>total_laid_off</th>\n",
       "      <th>percentage_laid_off</th>\n",
       "      <th>date</th>\n",
       "      <th>stage</th>\n",
       "      <th>country</th>\n",
       "      <th>funds_raised_millions</th>\n",
       "    </tr>\n",
       "  </thead>\n",
       "  <tbody>\n",
       "    <tr>\n",
       "      <th>330</th>\n",
       "      <td>Bally's Interactive</td>\n",
       "      <td>Providence</td>\n",
       "      <td>NaN</td>\n",
       "      <td>NaN</td>\n",
       "      <td>0.15</td>\n",
       "      <td>1/18/2023</td>\n",
       "      <td>Post-IPO</td>\n",
       "      <td>United States</td>\n",
       "      <td>946.0</td>\n",
       "    </tr>\n",
       "  </tbody>\n",
       "</table>\n",
       "</div>"
      ],
      "text/plain": [
       "                 company    location industry  total_laid_off  \\\n",
       "330  Bally's Interactive  Providence      NaN             NaN   \n",
       "\n",
       "     percentage_laid_off       date     stage        country  \\\n",
       "330                 0.15  1/18/2023  Post-IPO  United States   \n",
       "\n",
       "     funds_raised_millions  \n",
       "330                  946.0  "
      ]
     },
     "execution_count": 60,
     "metadata": {},
     "output_type": "execute_result"
    }
   ],
   "source": [
    "df[df['company']==\"Bally's Interactive\"]"
   ]
  },
  {
   "cell_type": "code",
   "execution_count": 61,
   "metadata": {},
   "outputs": [
    {
     "data": {
      "application/vnd.microsoft.datawrangler.viewer.v0+json": {
       "columns": [
        {
         "name": "index",
         "rawType": "int64",
         "type": "integer"
        },
        {
         "name": "company",
         "rawType": "object",
         "type": "string"
        },
        {
         "name": "location",
         "rawType": "object",
         "type": "string"
        },
        {
         "name": "industry",
         "rawType": "object",
         "type": "unknown"
        },
        {
         "name": "total_laid_off",
         "rawType": "float64",
         "type": "float"
        },
        {
         "name": "percentage_laid_off",
         "rawType": "float64",
         "type": "float"
        },
        {
         "name": "date",
         "rawType": "object",
         "type": "string"
        },
        {
         "name": "stage",
         "rawType": "object",
         "type": "string"
        },
        {
         "name": "country",
         "rawType": "object",
         "type": "string"
        },
        {
         "name": "funds_raised_millions",
         "rawType": "float64",
         "type": "float"
        }
       ],
       "conversionMethod": "pd.DataFrame",
       "ref": "81f9b158-27d5-45ef-bead-0fd371df0cf5",
       "rows": [
        [
         "736",
         "Juul",
         "SF Bay Area",
         null,
         "400.0",
         "0.3",
         "11/10/2022",
         "Unknown",
         "United States",
         "1500.0"
        ],
        [
         "1937",
         "Juul",
         "SF Bay Area",
         "Consumer",
         "900.0",
         "0.3",
         "5/5/2020",
         "Unknown",
         "United States",
         "1500.0"
        ]
       ],
       "shape": {
        "columns": 9,
        "rows": 2
       }
      },
      "text/html": [
       "<div>\n",
       "<style scoped>\n",
       "    .dataframe tbody tr th:only-of-type {\n",
       "        vertical-align: middle;\n",
       "    }\n",
       "\n",
       "    .dataframe tbody tr th {\n",
       "        vertical-align: top;\n",
       "    }\n",
       "\n",
       "    .dataframe thead th {\n",
       "        text-align: right;\n",
       "    }\n",
       "</style>\n",
       "<table border=\"1\" class=\"dataframe\">\n",
       "  <thead>\n",
       "    <tr style=\"text-align: right;\">\n",
       "      <th></th>\n",
       "      <th>company</th>\n",
       "      <th>location</th>\n",
       "      <th>industry</th>\n",
       "      <th>total_laid_off</th>\n",
       "      <th>percentage_laid_off</th>\n",
       "      <th>date</th>\n",
       "      <th>stage</th>\n",
       "      <th>country</th>\n",
       "      <th>funds_raised_millions</th>\n",
       "    </tr>\n",
       "  </thead>\n",
       "  <tbody>\n",
       "    <tr>\n",
       "      <th>736</th>\n",
       "      <td>Juul</td>\n",
       "      <td>SF Bay Area</td>\n",
       "      <td>NaN</td>\n",
       "      <td>400.0</td>\n",
       "      <td>0.3</td>\n",
       "      <td>11/10/2022</td>\n",
       "      <td>Unknown</td>\n",
       "      <td>United States</td>\n",
       "      <td>1500.0</td>\n",
       "    </tr>\n",
       "    <tr>\n",
       "      <th>1937</th>\n",
       "      <td>Juul</td>\n",
       "      <td>SF Bay Area</td>\n",
       "      <td>Consumer</td>\n",
       "      <td>900.0</td>\n",
       "      <td>0.3</td>\n",
       "      <td>5/5/2020</td>\n",
       "      <td>Unknown</td>\n",
       "      <td>United States</td>\n",
       "      <td>1500.0</td>\n",
       "    </tr>\n",
       "  </tbody>\n",
       "</table>\n",
       "</div>"
      ],
      "text/plain": [
       "     company     location  industry  total_laid_off  percentage_laid_off  \\\n",
       "736     Juul  SF Bay Area       NaN           400.0                  0.3   \n",
       "1937    Juul  SF Bay Area  Consumer           900.0                  0.3   \n",
       "\n",
       "            date    stage        country  funds_raised_millions  \n",
       "736   11/10/2022  Unknown  United States                 1500.0  \n",
       "1937    5/5/2020  Unknown  United States                 1500.0  "
      ]
     },
     "execution_count": 61,
     "metadata": {},
     "output_type": "execute_result"
    }
   ],
   "source": [
    "df[df['company']=='Juul']"
   ]
  },
  {
   "cell_type": "code",
   "execution_count": 62,
   "metadata": {},
   "outputs": [
    {
     "name": "stderr",
     "output_type": "stream",
     "text": [
      "C:\\Users\\PC\\AppData\\Local\\Temp\\ipykernel_228\\8940177.py:1: FutureWarning: A value is trying to be set on a copy of a DataFrame or Series through chained assignment using an inplace method.\n",
      "The behavior will change in pandas 3.0. This inplace method will never work because the intermediate object on which we are setting values always behaves as a copy.\n",
      "\n",
      "For example, when doing 'df[col].method(value, inplace=True)', try using 'df.method({col: value}, inplace=True)' or df[col] = df[col].method(value) instead, to perform the operation inplace on the original object.\n",
      "\n",
      "\n",
      "  df['industry'].where(df['company'] !='Juul','Consumer', inplace=True)\n"
     ]
    }
   ],
   "source": [
    "df['industry'].where(df['company'] !='Juul','Consumer', inplace=True)"
   ]
  },
  {
   "cell_type": "code",
   "execution_count": 63,
   "metadata": {},
   "outputs": [
    {
     "data": {
      "application/vnd.microsoft.datawrangler.viewer.v0+json": {
       "columns": [
        {
         "name": "index",
         "rawType": "int64",
         "type": "integer"
        },
        {
         "name": "company",
         "rawType": "object",
         "type": "string"
        },
        {
         "name": "location",
         "rawType": "object",
         "type": "string"
        },
        {
         "name": "industry",
         "rawType": "object",
         "type": "string"
        },
        {
         "name": "total_laid_off",
         "rawType": "float64",
         "type": "float"
        },
        {
         "name": "percentage_laid_off",
         "rawType": "float64",
         "type": "float"
        },
        {
         "name": "date",
         "rawType": "object",
         "type": "string"
        },
        {
         "name": "stage",
         "rawType": "object",
         "type": "string"
        },
        {
         "name": "country",
         "rawType": "object",
         "type": "string"
        },
        {
         "name": "funds_raised_millions",
         "rawType": "float64",
         "type": "float"
        }
       ],
       "conversionMethod": "pd.DataFrame",
       "ref": "0e019357-c01d-43ac-a148-7f7efe621032",
       "rows": [
        [
         "736",
         "Juul",
         "SF Bay Area",
         "Consumer",
         "400.0",
         "0.3",
         "11/10/2022",
         "Unknown",
         "United States",
         "1500.0"
        ],
        [
         "1937",
         "Juul",
         "SF Bay Area",
         "Consumer",
         "900.0",
         "0.3",
         "5/5/2020",
         "Unknown",
         "United States",
         "1500.0"
        ]
       ],
       "shape": {
        "columns": 9,
        "rows": 2
       }
      },
      "text/html": [
       "<div>\n",
       "<style scoped>\n",
       "    .dataframe tbody tr th:only-of-type {\n",
       "        vertical-align: middle;\n",
       "    }\n",
       "\n",
       "    .dataframe tbody tr th {\n",
       "        vertical-align: top;\n",
       "    }\n",
       "\n",
       "    .dataframe thead th {\n",
       "        text-align: right;\n",
       "    }\n",
       "</style>\n",
       "<table border=\"1\" class=\"dataframe\">\n",
       "  <thead>\n",
       "    <tr style=\"text-align: right;\">\n",
       "      <th></th>\n",
       "      <th>company</th>\n",
       "      <th>location</th>\n",
       "      <th>industry</th>\n",
       "      <th>total_laid_off</th>\n",
       "      <th>percentage_laid_off</th>\n",
       "      <th>date</th>\n",
       "      <th>stage</th>\n",
       "      <th>country</th>\n",
       "      <th>funds_raised_millions</th>\n",
       "    </tr>\n",
       "  </thead>\n",
       "  <tbody>\n",
       "    <tr>\n",
       "      <th>736</th>\n",
       "      <td>Juul</td>\n",
       "      <td>SF Bay Area</td>\n",
       "      <td>Consumer</td>\n",
       "      <td>400.0</td>\n",
       "      <td>0.3</td>\n",
       "      <td>11/10/2022</td>\n",
       "      <td>Unknown</td>\n",
       "      <td>United States</td>\n",
       "      <td>1500.0</td>\n",
       "    </tr>\n",
       "    <tr>\n",
       "      <th>1937</th>\n",
       "      <td>Juul</td>\n",
       "      <td>SF Bay Area</td>\n",
       "      <td>Consumer</td>\n",
       "      <td>900.0</td>\n",
       "      <td>0.3</td>\n",
       "      <td>5/5/2020</td>\n",
       "      <td>Unknown</td>\n",
       "      <td>United States</td>\n",
       "      <td>1500.0</td>\n",
       "    </tr>\n",
       "  </tbody>\n",
       "</table>\n",
       "</div>"
      ],
      "text/plain": [
       "     company     location  industry  total_laid_off  percentage_laid_off  \\\n",
       "736     Juul  SF Bay Area  Consumer           400.0                  0.3   \n",
       "1937    Juul  SF Bay Area  Consumer           900.0                  0.3   \n",
       "\n",
       "            date    stage        country  funds_raised_millions  \n",
       "736   11/10/2022  Unknown  United States                 1500.0  \n",
       "1937    5/5/2020  Unknown  United States                 1500.0  "
      ]
     },
     "execution_count": 63,
     "metadata": {},
     "output_type": "execute_result"
    }
   ],
   "source": [
    "df[df['company']=='Juul']"
   ]
  },
  {
   "cell_type": "code",
   "execution_count": 64,
   "metadata": {},
   "outputs": [
    {
     "data": {
      "application/vnd.microsoft.datawrangler.viewer.v0+json": {
       "columns": [
        {
         "name": "index",
         "rawType": "int64",
         "type": "integer"
        },
        {
         "name": "company",
         "rawType": "object",
         "type": "string"
        },
        {
         "name": "location",
         "rawType": "object",
         "type": "string"
        },
        {
         "name": "industry",
         "rawType": "object",
         "type": "unknown"
        },
        {
         "name": "total_laid_off",
         "rawType": "float64",
         "type": "float"
        },
        {
         "name": "percentage_laid_off",
         "rawType": "float64",
         "type": "float"
        },
        {
         "name": "date",
         "rawType": "object",
         "type": "string"
        },
        {
         "name": "stage",
         "rawType": "object",
         "type": "string"
        },
        {
         "name": "country",
         "rawType": "object",
         "type": "string"
        },
        {
         "name": "funds_raised_millions",
         "rawType": "float64",
         "type": "float"
        }
       ],
       "conversionMethod": "pd.DataFrame",
       "ref": "ee22a578-a408-4f9c-bd0d-75b38213619e",
       "rows": [
        [
         "371",
         "Carvana",
         "Phoenix",
         "Transportation",
         null,
         null,
         "1/13/2023",
         "Post-IPO",
         "United States",
         "1600.0"
        ],
        [
         "659",
         "Carvana",
         "Phoenix",
         "Transportation",
         "1500.0",
         "0.08",
         "11/18/2022",
         "Post-IPO",
         "United States",
         "1600.0"
        ],
        [
         "1595",
         "Carvana",
         "Phoenix",
         null,
         "2500.0",
         "0.12",
         "5/10/2022",
         "Post-IPO",
         "United States",
         "1600.0"
        ]
       ],
       "shape": {
        "columns": 9,
        "rows": 3
       }
      },
      "text/html": [
       "<div>\n",
       "<style scoped>\n",
       "    .dataframe tbody tr th:only-of-type {\n",
       "        vertical-align: middle;\n",
       "    }\n",
       "\n",
       "    .dataframe tbody tr th {\n",
       "        vertical-align: top;\n",
       "    }\n",
       "\n",
       "    .dataframe thead th {\n",
       "        text-align: right;\n",
       "    }\n",
       "</style>\n",
       "<table border=\"1\" class=\"dataframe\">\n",
       "  <thead>\n",
       "    <tr style=\"text-align: right;\">\n",
       "      <th></th>\n",
       "      <th>company</th>\n",
       "      <th>location</th>\n",
       "      <th>industry</th>\n",
       "      <th>total_laid_off</th>\n",
       "      <th>percentage_laid_off</th>\n",
       "      <th>date</th>\n",
       "      <th>stage</th>\n",
       "      <th>country</th>\n",
       "      <th>funds_raised_millions</th>\n",
       "    </tr>\n",
       "  </thead>\n",
       "  <tbody>\n",
       "    <tr>\n",
       "      <th>371</th>\n",
       "      <td>Carvana</td>\n",
       "      <td>Phoenix</td>\n",
       "      <td>Transportation</td>\n",
       "      <td>NaN</td>\n",
       "      <td>NaN</td>\n",
       "      <td>1/13/2023</td>\n",
       "      <td>Post-IPO</td>\n",
       "      <td>United States</td>\n",
       "      <td>1600.0</td>\n",
       "    </tr>\n",
       "    <tr>\n",
       "      <th>659</th>\n",
       "      <td>Carvana</td>\n",
       "      <td>Phoenix</td>\n",
       "      <td>Transportation</td>\n",
       "      <td>1500.0</td>\n",
       "      <td>0.08</td>\n",
       "      <td>11/18/2022</td>\n",
       "      <td>Post-IPO</td>\n",
       "      <td>United States</td>\n",
       "      <td>1600.0</td>\n",
       "    </tr>\n",
       "    <tr>\n",
       "      <th>1595</th>\n",
       "      <td>Carvana</td>\n",
       "      <td>Phoenix</td>\n",
       "      <td>NaN</td>\n",
       "      <td>2500.0</td>\n",
       "      <td>0.12</td>\n",
       "      <td>5/10/2022</td>\n",
       "      <td>Post-IPO</td>\n",
       "      <td>United States</td>\n",
       "      <td>1600.0</td>\n",
       "    </tr>\n",
       "  </tbody>\n",
       "</table>\n",
       "</div>"
      ],
      "text/plain": [
       "      company location        industry  total_laid_off  percentage_laid_off  \\\n",
       "371   Carvana  Phoenix  Transportation             NaN                  NaN   \n",
       "659   Carvana  Phoenix  Transportation          1500.0                 0.08   \n",
       "1595  Carvana  Phoenix             NaN          2500.0                 0.12   \n",
       "\n",
       "            date     stage        country  funds_raised_millions  \n",
       "371    1/13/2023  Post-IPO  United States                 1600.0  \n",
       "659   11/18/2022  Post-IPO  United States                 1600.0  \n",
       "1595   5/10/2022  Post-IPO  United States                 1600.0  "
      ]
     },
     "execution_count": 64,
     "metadata": {},
     "output_type": "execute_result"
    }
   ],
   "source": [
    "df[df['company']== 'Carvana']\n"
   ]
  },
  {
   "cell_type": "code",
   "execution_count": null,
   "metadata": {},
   "outputs": [],
   "source": []
  },
  {
   "cell_type": "code",
   "execution_count": 65,
   "metadata": {},
   "outputs": [],
   "source": [
    "df['industry'] = df.apply(\n",
    "    lambda row: 'Transportation' if row['company'] == 'Carvana' and pd.isna(row['industry']) else row['industry'],\n",
    "    axis=1\n",
    ")\n",
    "\n"
   ]
  },
  {
   "cell_type": "code",
   "execution_count": 67,
   "metadata": {},
   "outputs": [
    {
     "data": {
      "application/vnd.microsoft.datawrangler.viewer.v0+json": {
       "columns": [
        {
         "name": "index",
         "rawType": "int64",
         "type": "integer"
        },
        {
         "name": "company",
         "rawType": "object",
         "type": "string"
        },
        {
         "name": "location",
         "rawType": "object",
         "type": "string"
        },
        {
         "name": "industry",
         "rawType": "object",
         "type": "string"
        },
        {
         "name": "total_laid_off",
         "rawType": "float64",
         "type": "float"
        },
        {
         "name": "percentage_laid_off",
         "rawType": "float64",
         "type": "float"
        },
        {
         "name": "date",
         "rawType": "object",
         "type": "string"
        },
        {
         "name": "stage",
         "rawType": "object",
         "type": "string"
        },
        {
         "name": "country",
         "rawType": "object",
         "type": "string"
        },
        {
         "name": "funds_raised_millions",
         "rawType": "float64",
         "type": "float"
        }
       ],
       "conversionMethod": "pd.DataFrame",
       "ref": "45e89b2b-f8e4-4cad-acd6-a44acc041d30",
       "rows": [
        [
         "371",
         "Carvana",
         "Phoenix",
         "Transportation",
         null,
         null,
         "1/13/2023",
         "Post-IPO",
         "United States",
         "1600.0"
        ],
        [
         "659",
         "Carvana",
         "Phoenix",
         "Transportation",
         "1500.0",
         "0.08",
         "11/18/2022",
         "Post-IPO",
         "United States",
         "1600.0"
        ],
        [
         "1595",
         "Carvana",
         "Phoenix",
         "Transportation",
         "2500.0",
         "0.12",
         "5/10/2022",
         "Post-IPO",
         "United States",
         "1600.0"
        ]
       ],
       "shape": {
        "columns": 9,
        "rows": 3
       }
      },
      "text/html": [
       "<div>\n",
       "<style scoped>\n",
       "    .dataframe tbody tr th:only-of-type {\n",
       "        vertical-align: middle;\n",
       "    }\n",
       "\n",
       "    .dataframe tbody tr th {\n",
       "        vertical-align: top;\n",
       "    }\n",
       "\n",
       "    .dataframe thead th {\n",
       "        text-align: right;\n",
       "    }\n",
       "</style>\n",
       "<table border=\"1\" class=\"dataframe\">\n",
       "  <thead>\n",
       "    <tr style=\"text-align: right;\">\n",
       "      <th></th>\n",
       "      <th>company</th>\n",
       "      <th>location</th>\n",
       "      <th>industry</th>\n",
       "      <th>total_laid_off</th>\n",
       "      <th>percentage_laid_off</th>\n",
       "      <th>date</th>\n",
       "      <th>stage</th>\n",
       "      <th>country</th>\n",
       "      <th>funds_raised_millions</th>\n",
       "    </tr>\n",
       "  </thead>\n",
       "  <tbody>\n",
       "    <tr>\n",
       "      <th>371</th>\n",
       "      <td>Carvana</td>\n",
       "      <td>Phoenix</td>\n",
       "      <td>Transportation</td>\n",
       "      <td>NaN</td>\n",
       "      <td>NaN</td>\n",
       "      <td>1/13/2023</td>\n",
       "      <td>Post-IPO</td>\n",
       "      <td>United States</td>\n",
       "      <td>1600.0</td>\n",
       "    </tr>\n",
       "    <tr>\n",
       "      <th>659</th>\n",
       "      <td>Carvana</td>\n",
       "      <td>Phoenix</td>\n",
       "      <td>Transportation</td>\n",
       "      <td>1500.0</td>\n",
       "      <td>0.08</td>\n",
       "      <td>11/18/2022</td>\n",
       "      <td>Post-IPO</td>\n",
       "      <td>United States</td>\n",
       "      <td>1600.0</td>\n",
       "    </tr>\n",
       "    <tr>\n",
       "      <th>1595</th>\n",
       "      <td>Carvana</td>\n",
       "      <td>Phoenix</td>\n",
       "      <td>Transportation</td>\n",
       "      <td>2500.0</td>\n",
       "      <td>0.12</td>\n",
       "      <td>5/10/2022</td>\n",
       "      <td>Post-IPO</td>\n",
       "      <td>United States</td>\n",
       "      <td>1600.0</td>\n",
       "    </tr>\n",
       "  </tbody>\n",
       "</table>\n",
       "</div>"
      ],
      "text/plain": [
       "      company location        industry  total_laid_off  percentage_laid_off  \\\n",
       "371   Carvana  Phoenix  Transportation             NaN                  NaN   \n",
       "659   Carvana  Phoenix  Transportation          1500.0                 0.08   \n",
       "1595  Carvana  Phoenix  Transportation          2500.0                 0.12   \n",
       "\n",
       "            date     stage        country  funds_raised_millions  \n",
       "371    1/13/2023  Post-IPO  United States                 1600.0  \n",
       "659   11/18/2022  Post-IPO  United States                 1600.0  \n",
       "1595   5/10/2022  Post-IPO  United States                 1600.0  "
      ]
     },
     "execution_count": 67,
     "metadata": {},
     "output_type": "execute_result"
    }
   ],
   "source": [
    "df[df['company']== 'Carvana']\n"
   ]
  },
  {
   "cell_type": "code",
   "execution_count": 68,
   "metadata": {},
   "outputs": [
    {
     "name": "stderr",
     "output_type": "stream",
     "text": [
      "C:\\Users\\PC\\AppData\\Local\\Temp\\ipykernel_228\\1643116795.py:1: FutureWarning: A value is trying to be set on a copy of a DataFrame or Series through chained assignment using an inplace method.\n",
      "The behavior will change in pandas 3.0. This inplace method will never work because the intermediate object on which we are setting values always behaves as a copy.\n",
      "\n",
      "For example, when doing 'df[col].method(value, inplace=True)', try using 'df.method({col: value}, inplace=True)' or df[col] = df[col].method(value) instead, to perform the operation inplace on the original object.\n",
      "\n",
      "\n",
      "  df['industry'].where(df['company'] !=\"Bally's Interactive\",'other', inplace=True)\n"
     ]
    }
   ],
   "source": [
    "df['industry'].where(df['company'] !=\"Bally's Interactive\",'other', inplace=True)"
   ]
  },
  {
   "cell_type": "code",
   "execution_count": 70,
   "metadata": {},
   "outputs": [
    {
     "data": {
      "application/vnd.microsoft.datawrangler.viewer.v0+json": {
       "columns": [
        {
         "name": "index",
         "rawType": "int64",
         "type": "integer"
        },
        {
         "name": "company",
         "rawType": "object",
         "type": "string"
        },
        {
         "name": "location",
         "rawType": "object",
         "type": "string"
        },
        {
         "name": "industry",
         "rawType": "object",
         "type": "string"
        },
        {
         "name": "total_laid_off",
         "rawType": "float64",
         "type": "float"
        },
        {
         "name": "percentage_laid_off",
         "rawType": "float64",
         "type": "float"
        },
        {
         "name": "date",
         "rawType": "object",
         "type": "string"
        },
        {
         "name": "stage",
         "rawType": "object",
         "type": "string"
        },
        {
         "name": "country",
         "rawType": "object",
         "type": "string"
        },
        {
         "name": "funds_raised_millions",
         "rawType": "float64",
         "type": "float"
        }
       ],
       "conversionMethod": "pd.DataFrame",
       "ref": "5051173e-61d4-478c-9d5a-60b6c3f29d44",
       "rows": [
        [
         "330",
         "Bally's Interactive",
         "Providence",
         "other",
         null,
         "0.15",
         "1/18/2023",
         "Post-IPO",
         "United States",
         "946.0"
        ]
       ],
       "shape": {
        "columns": 9,
        "rows": 1
       }
      },
      "text/html": [
       "<div>\n",
       "<style scoped>\n",
       "    .dataframe tbody tr th:only-of-type {\n",
       "        vertical-align: middle;\n",
       "    }\n",
       "\n",
       "    .dataframe tbody tr th {\n",
       "        vertical-align: top;\n",
       "    }\n",
       "\n",
       "    .dataframe thead th {\n",
       "        text-align: right;\n",
       "    }\n",
       "</style>\n",
       "<table border=\"1\" class=\"dataframe\">\n",
       "  <thead>\n",
       "    <tr style=\"text-align: right;\">\n",
       "      <th></th>\n",
       "      <th>company</th>\n",
       "      <th>location</th>\n",
       "      <th>industry</th>\n",
       "      <th>total_laid_off</th>\n",
       "      <th>percentage_laid_off</th>\n",
       "      <th>date</th>\n",
       "      <th>stage</th>\n",
       "      <th>country</th>\n",
       "      <th>funds_raised_millions</th>\n",
       "    </tr>\n",
       "  </thead>\n",
       "  <tbody>\n",
       "    <tr>\n",
       "      <th>330</th>\n",
       "      <td>Bally's Interactive</td>\n",
       "      <td>Providence</td>\n",
       "      <td>other</td>\n",
       "      <td>NaN</td>\n",
       "      <td>0.15</td>\n",
       "      <td>1/18/2023</td>\n",
       "      <td>Post-IPO</td>\n",
       "      <td>United States</td>\n",
       "      <td>946.0</td>\n",
       "    </tr>\n",
       "  </tbody>\n",
       "</table>\n",
       "</div>"
      ],
      "text/plain": [
       "                 company    location industry  total_laid_off  \\\n",
       "330  Bally's Interactive  Providence    other             NaN   \n",
       "\n",
       "     percentage_laid_off       date     stage        country  \\\n",
       "330                 0.15  1/18/2023  Post-IPO  United States   \n",
       "\n",
       "     funds_raised_millions  \n",
       "330                  946.0  "
      ]
     },
     "execution_count": 70,
     "metadata": {},
     "output_type": "execute_result"
    }
   ],
   "source": [
    "df[df['company']== \"Bally's Interactive\"]"
   ]
  },
  {
   "cell_type": "markdown",
   "metadata": {},
   "source": [
    "###df.loc[df['company']==\"Bally's Interactive\",'industry']='other'"
   ]
  },
  {
   "cell_type": "code",
   "execution_count": 72,
   "metadata": {},
   "outputs": [
    {
     "name": "stdout",
     "output_type": "stream",
     "text": [
      "<class 'pandas.core.frame.DataFrame'>\n",
      "Index: 2356 entries, 0 to 2356\n",
      "Data columns (total 9 columns):\n",
      " #   Column                 Non-Null Count  Dtype  \n",
      "---  ------                 --------------  -----  \n",
      " 0   company                2356 non-null   object \n",
      " 1   location               2356 non-null   object \n",
      " 2   industry               2356 non-null   object \n",
      " 3   total_laid_off         1617 non-null   float64\n",
      " 4   percentage_laid_off    1572 non-null   float64\n",
      " 5   date                   2355 non-null   object \n",
      " 6   stage                  2350 non-null   object \n",
      " 7   country                2356 non-null   object \n",
      " 8   funds_raised_millions  2147 non-null   float64\n",
      "dtypes: float64(3), object(6)\n",
      "memory usage: 184.1+ KB\n"
     ]
    }
   ],
   "source": [
    "df.info()"
   ]
  },
  {
   "cell_type": "code",
   "execution_count": 74,
   "metadata": {},
   "outputs": [
    {
     "data": {
      "application/vnd.microsoft.datawrangler.viewer.v0+json": {
       "columns": [
        {
         "name": "index",
         "rawType": "int64",
         "type": "integer"
        },
        {
         "name": "company",
         "rawType": "object",
         "type": "string"
        },
        {
         "name": "location",
         "rawType": "object",
         "type": "string"
        },
        {
         "name": "industry",
         "rawType": "object",
         "type": "string"
        },
        {
         "name": "total_laid_off",
         "rawType": "float64",
         "type": "float"
        },
        {
         "name": "percentage_laid_off",
         "rawType": "float64",
         "type": "float"
        },
        {
         "name": "date",
         "rawType": "object",
         "type": "string"
        },
        {
         "name": "stage",
         "rawType": "object",
         "type": "unknown"
        },
        {
         "name": "country",
         "rawType": "object",
         "type": "string"
        },
        {
         "name": "funds_raised_millions",
         "rawType": "float64",
         "type": "float"
        }
       ],
       "conversionMethod": "pd.DataFrame",
       "ref": "0234bae6-5d99-4481-8f26-a34aaae00e2b",
       "rows": [
        [
         "9",
         "Accolade",
         "Seattle",
         "Healthcare",
         null,
         null,
         "3/3/2023",
         "Post-IPO",
         "United States",
         "458.0"
        ],
        [
         "10",
         "Indigo",
         "Boston",
         "Other",
         null,
         null,
         "3/3/2023",
         "Series F",
         "United States",
         "1200.0"
        ],
        [
         "16",
         "Flipkart",
         "Bengaluru",
         "Retail",
         null,
         null,
         "3/2/2023",
         "Acquired",
         "India",
         "12900.0"
        ],
        [
         "18",
         "Truckstop.com",
         "Boise",
         "Logistics",
         null,
         null,
         "3/2/2023",
         "Acquired",
         "United States",
         null
        ],
        [
         "57",
         "Arch Oncology",
         "St. Louis",
         "Healthcare",
         null,
         null,
         "2/22/2023",
         "Series C",
         "United States",
         "155.0"
        ],
        [
         "65",
         "Criteo",
         "Paris",
         "Marketing",
         null,
         null,
         "2/21/2023",
         "Post-IPO",
         "France",
         "61.0"
        ],
        [
         "66",
         "Green Labs",
         "Seoul",
         "Food",
         null,
         null,
         "2/21/2023",
         "Series C",
         "South Korea",
         "214.0"
        ],
        [
         "67",
         "PeerStreet",
         "Los Angeles",
         "Real Estate",
         null,
         null,
         "2/21/2023",
         "Series C",
         "United States",
         "121.0"
        ],
        [
         "68",
         "Zalando",
         "Berlin",
         "Retail",
         null,
         null,
         "2/21/2023",
         "Post-IPO",
         "Germany",
         "467.0"
        ],
        [
         "77",
         "Digimarc",
         "Portland",
         "Other",
         null,
         null,
         "2/17/2023",
         "Post-IPO",
         "United States",
         "105.0"
        ],
        [
         "78",
         "Reserve",
         "SF Bay Area",
         "Crypto",
         null,
         null,
         "2/17/2023",
         "Unknown",
         "United States",
         null
        ],
        [
         "83",
         "Convoy",
         "Atlanta",
         "Logistics",
         null,
         null,
         "2/16/2023",
         "Series E",
         "United States",
         "1100.0"
        ],
        [
         "91",
         "Divvy Homes",
         "SF Bay Area",
         "Real Estate",
         null,
         null,
         "2/15/2023",
         "Series B",
         "United States",
         "180.0"
        ],
        [
         "94",
         "Observe.AI",
         "SF Bay Area",
         "Support",
         null,
         null,
         "2/15/2023",
         "Series C",
         "United States",
         "214.0"
        ],
        [
         "95",
         "Religion of Sports",
         "Los Angeles",
         "Media",
         null,
         null,
         "2/15/2023",
         "Series B",
         "United States",
         "63.0"
        ],
        [
         "110",
         "Foodpanda",
         "Singapore",
         "Food",
         null,
         null,
         "2/13/2023",
         "Acquired",
         "Singapore",
         "749.0"
        ],
        [
         "111",
         "Getir",
         "London",
         "Food",
         null,
         null,
         "2/13/2023",
         "Series E",
         "United Kingdom",
         "1800.0"
        ],
        [
         "112",
         "LinkedIn",
         "SF Bay Area",
         "HR",
         null,
         null,
         "2/13/2023",
         "Acquired",
         "United States",
         "154.0"
        ],
        [
         "116",
         "Open Co",
         "Sao Paulo",
         "Finance",
         null,
         null,
         "2/10/2023",
         "Series D",
         "Brazil",
         "140.0"
        ],
        [
         "129",
         "Quillt",
         "St. Louis",
         "Media",
         null,
         null,
         "2/9/2023",
         "Unknown",
         "United States",
         null
        ],
        [
         "155",
         "C6 Bank",
         "Sao Paulo",
         "Finance",
         null,
         null,
         "2/6/2023",
         "Unknown",
         "Brazil",
         "2300.0"
        ],
        [
         "157",
         "TenureX",
         "Tel Aviv",
         "Finance",
         null,
         null,
         "2/6/2023",
         "Seed",
         "Israel",
         "6.0"
        ],
        [
         "174",
         "Desktop Metal",
         "Boston",
         "Other",
         null,
         null,
         "2/2/2023",
         "Post-IPO",
         "United States",
         "811.0"
        ],
        [
         "177",
         "Talkdesk",
         "SF Bay Area",
         "Support",
         null,
         null,
         "2/2/2023",
         "Series D",
         "United States",
         "497.0"
        ],
        [
         "189",
         "Ada",
         "Toronto",
         "Support",
         null,
         null,
         "2/1/2023",
         "Series C",
         "Canada",
         "190.0"
        ],
        [
         "194",
         "Omnipresent",
         "London",
         "HR",
         null,
         null,
         "2/1/2023",
         "Series B",
         "United States",
         "137.0"
        ],
        [
         "195",
         "Picnic",
         "Seattle",
         "Food",
         null,
         null,
         "2/1/2023",
         "Unknown",
         "United States",
         "52.0"
        ],
        [
         "220",
         "Olist",
         "Curitiba",
         "Retail",
         null,
         null,
         "1/30/2023",
         "Series E",
         "Brazil",
         "322.0"
        ],
        [
         "221",
         "Oyster",
         "Charlotte",
         "HR",
         null,
         null,
         "1/30/2023",
         "Series C",
         "United States",
         "224.0"
        ],
        [
         "224",
         "SoFi",
         "SF Bay Area",
         "Finance",
         null,
         null,
         "1/30/2023",
         "Post-IPO",
         "United States",
         "3000.0"
        ],
        [
         "225",
         "Hoxhunt",
         "Helsinki",
         "Security",
         null,
         null,
         "1/29/2023",
         "Series B",
         "Finland",
         "43.0"
        ],
        [
         "236",
         "Decent",
         "SF Bay Area",
         "Healthcare",
         null,
         null,
         "1/27/2023",
         "Series A",
         "United States",
         "18.0"
        ],
        [
         "237",
         "Feedzai",
         "Coimbra",
         "Finance",
         null,
         null,
         "1/27/2023",
         "Unknown",
         "Portugal",
         "273.0"
        ],
        [
         "238",
         "Nate",
         "New York City",
         "Retail",
         null,
         null,
         "1/27/2023",
         "Series A",
         "United States",
         "47.0"
        ],
        [
         "244",
         "Quora",
         "SF Bay Area",
         "Consumer",
         null,
         null,
         "1/26/2023",
         "Series D",
         "United States",
         "226.0"
        ],
        [
         "253",
         "CareRev",
         "Los Angeles",
         "Retail",
         null,
         null,
         "1/25/2023",
         "Series A",
         "United States",
         "51.0"
        ],
        [
         "254",
         "Finastra",
         "Tel Aviv",
         "Finance",
         null,
         null,
         "1/25/2023",
         "Unknown",
         "Israel",
         null
        ],
        [
         "255",
         "Noom",
         "New York City",
         "Fitness",
         null,
         null,
         "1/25/2023",
         "Series F",
         "United States",
         "657.0"
        ],
        [
         "267",
         "Icon",
         "Austin",
         "Construction",
         null,
         null,
         "1/24/2023",
         "Series B",
         "United States",
         "451.0"
        ],
        [
         "280",
         "BUX",
         "Amsterdam",
         "Finance",
         null,
         null,
         "1/22/2023",
         "Series C",
         "Netherlands",
         "115.0"
        ],
        [
         "291",
         "Avalara",
         "Seattle",
         "Finance",
         null,
         null,
         "1/20/2023",
         "Acquired",
         "United States",
         "341.0"
        ],
        [
         "293",
         "Morning Consult",
         "Washington D.C.",
         "Data",
         null,
         null,
         "1/20/2023",
         "Series B",
         "United States",
         "91.0"
        ],
        [
         "294",
         "TikTok",
         "Los Angeles",
         "Consumer",
         null,
         null,
         "1/20/2023",
         "Acquired",
         "United States",
         null
        ],
        [
         "295",
         "Zappos",
         "Las Vegas",
         "Retail",
         null,
         null,
         "1/20/2023",
         "Acquired",
         "United States",
         "62.0"
        ],
        [
         "305",
         "Fandom",
         "SF Bay Area",
         "Media",
         null,
         null,
         "1/19/2023",
         "Series E",
         "United States",
         "145.0"
        ],
        [
         "306",
         "IAM Robotics",
         "Pittsburgh",
         "Hardware",
         null,
         null,
         "1/19/2023",
         "Unknown",
         "United States",
         "21.0"
        ],
        [
         "307",
         "Icertis",
         "Seattle",
         "Legal",
         null,
         null,
         "1/19/2023",
         "Unknown",
         "United States",
         "521.0"
        ],
        [
         "312",
         "Spaceship",
         "Sydney",
         "Finance",
         null,
         null,
         "1/19/2023",
         "Series A",
         "Australia",
         "41.0"
        ],
        [
         "332",
         "Cazoo",
         "London",
         "Transportation",
         null,
         null,
         "1/18/2023",
         "Post-IPO",
         "United Kingdom",
         "2000.0"
        ],
        [
         "333",
         "Coda",
         "SF Bay Area",
         "Other",
         null,
         null,
         "1/18/2023",
         "Series D",
         "United States",
         "240.0"
        ]
       ],
       "shape": {
        "columns": 9,
        "rows": 361
       }
      },
      "text/html": [
       "<div>\n",
       "<style scoped>\n",
       "    .dataframe tbody tr th:only-of-type {\n",
       "        vertical-align: middle;\n",
       "    }\n",
       "\n",
       "    .dataframe tbody tr th {\n",
       "        vertical-align: top;\n",
       "    }\n",
       "\n",
       "    .dataframe thead th {\n",
       "        text-align: right;\n",
       "    }\n",
       "</style>\n",
       "<table border=\"1\" class=\"dataframe\">\n",
       "  <thead>\n",
       "    <tr style=\"text-align: right;\">\n",
       "      <th></th>\n",
       "      <th>company</th>\n",
       "      <th>location</th>\n",
       "      <th>industry</th>\n",
       "      <th>total_laid_off</th>\n",
       "      <th>percentage_laid_off</th>\n",
       "      <th>date</th>\n",
       "      <th>stage</th>\n",
       "      <th>country</th>\n",
       "      <th>funds_raised_millions</th>\n",
       "    </tr>\n",
       "  </thead>\n",
       "  <tbody>\n",
       "    <tr>\n",
       "      <th>9</th>\n",
       "      <td>Accolade</td>\n",
       "      <td>Seattle</td>\n",
       "      <td>Healthcare</td>\n",
       "      <td>NaN</td>\n",
       "      <td>NaN</td>\n",
       "      <td>3/3/2023</td>\n",
       "      <td>Post-IPO</td>\n",
       "      <td>United States</td>\n",
       "      <td>458.0</td>\n",
       "    </tr>\n",
       "    <tr>\n",
       "      <th>10</th>\n",
       "      <td>Indigo</td>\n",
       "      <td>Boston</td>\n",
       "      <td>Other</td>\n",
       "      <td>NaN</td>\n",
       "      <td>NaN</td>\n",
       "      <td>3/3/2023</td>\n",
       "      <td>Series F</td>\n",
       "      <td>United States</td>\n",
       "      <td>1200.0</td>\n",
       "    </tr>\n",
       "    <tr>\n",
       "      <th>16</th>\n",
       "      <td>Flipkart</td>\n",
       "      <td>Bengaluru</td>\n",
       "      <td>Retail</td>\n",
       "      <td>NaN</td>\n",
       "      <td>NaN</td>\n",
       "      <td>3/2/2023</td>\n",
       "      <td>Acquired</td>\n",
       "      <td>India</td>\n",
       "      <td>12900.0</td>\n",
       "    </tr>\n",
       "    <tr>\n",
       "      <th>18</th>\n",
       "      <td>Truckstop.com</td>\n",
       "      <td>Boise</td>\n",
       "      <td>Logistics</td>\n",
       "      <td>NaN</td>\n",
       "      <td>NaN</td>\n",
       "      <td>3/2/2023</td>\n",
       "      <td>Acquired</td>\n",
       "      <td>United States</td>\n",
       "      <td>NaN</td>\n",
       "    </tr>\n",
       "    <tr>\n",
       "      <th>57</th>\n",
       "      <td>Arch Oncology</td>\n",
       "      <td>St. Louis</td>\n",
       "      <td>Healthcare</td>\n",
       "      <td>NaN</td>\n",
       "      <td>NaN</td>\n",
       "      <td>2/22/2023</td>\n",
       "      <td>Series C</td>\n",
       "      <td>United States</td>\n",
       "      <td>155.0</td>\n",
       "    </tr>\n",
       "    <tr>\n",
       "      <th>...</th>\n",
       "      <td>...</td>\n",
       "      <td>...</td>\n",
       "      <td>...</td>\n",
       "      <td>...</td>\n",
       "      <td>...</td>\n",
       "      <td>...</td>\n",
       "      <td>...</td>\n",
       "      <td>...</td>\n",
       "      <td>...</td>\n",
       "    </tr>\n",
       "    <tr>\n",
       "      <th>2323</th>\n",
       "      <td>SpotHero</td>\n",
       "      <td>Chicago</td>\n",
       "      <td>Transportation</td>\n",
       "      <td>NaN</td>\n",
       "      <td>NaN</td>\n",
       "      <td>3/24/2020</td>\n",
       "      <td>Series D</td>\n",
       "      <td>United States</td>\n",
       "      <td>117.0</td>\n",
       "    </tr>\n",
       "    <tr>\n",
       "      <th>2334</th>\n",
       "      <td>Zwift</td>\n",
       "      <td>Los Angeles</td>\n",
       "      <td>Fitness</td>\n",
       "      <td>NaN</td>\n",
       "      <td>NaN</td>\n",
       "      <td>3/23/2020</td>\n",
       "      <td>Series B</td>\n",
       "      <td>United States</td>\n",
       "      <td>164.0</td>\n",
       "    </tr>\n",
       "    <tr>\n",
       "      <th>2340</th>\n",
       "      <td>Vacasa</td>\n",
       "      <td>Portland</td>\n",
       "      <td>Travel</td>\n",
       "      <td>NaN</td>\n",
       "      <td>NaN</td>\n",
       "      <td>3/20/2020</td>\n",
       "      <td>Series C</td>\n",
       "      <td>United States</td>\n",
       "      <td>526.0</td>\n",
       "    </tr>\n",
       "    <tr>\n",
       "      <th>2345</th>\n",
       "      <td>Anyvision</td>\n",
       "      <td>Tel Aviv</td>\n",
       "      <td>Security</td>\n",
       "      <td>NaN</td>\n",
       "      <td>NaN</td>\n",
       "      <td>3/19/2020</td>\n",
       "      <td>Series A</td>\n",
       "      <td>Israel</td>\n",
       "      <td>74.0</td>\n",
       "    </tr>\n",
       "    <tr>\n",
       "      <th>2347</th>\n",
       "      <td>Tuft &amp; Needle</td>\n",
       "      <td>Phoenix</td>\n",
       "      <td>Retail</td>\n",
       "      <td>NaN</td>\n",
       "      <td>NaN</td>\n",
       "      <td>3/19/2020</td>\n",
       "      <td>Acquired</td>\n",
       "      <td>United States</td>\n",
       "      <td>0.0</td>\n",
       "    </tr>\n",
       "  </tbody>\n",
       "</table>\n",
       "<p>361 rows × 9 columns</p>\n",
       "</div>"
      ],
      "text/plain": [
       "            company     location        industry  total_laid_off  \\\n",
       "9          Accolade      Seattle      Healthcare             NaN   \n",
       "10           Indigo       Boston           Other             NaN   \n",
       "16         Flipkart    Bengaluru          Retail             NaN   \n",
       "18    Truckstop.com        Boise       Logistics             NaN   \n",
       "57    Arch Oncology    St. Louis      Healthcare             NaN   \n",
       "...             ...          ...             ...             ...   \n",
       "2323       SpotHero      Chicago  Transportation             NaN   \n",
       "2334          Zwift  Los Angeles         Fitness             NaN   \n",
       "2340         Vacasa     Portland          Travel             NaN   \n",
       "2345      Anyvision     Tel Aviv        Security             NaN   \n",
       "2347  Tuft & Needle      Phoenix          Retail             NaN   \n",
       "\n",
       "      percentage_laid_off       date     stage        country  \\\n",
       "9                     NaN   3/3/2023  Post-IPO  United States   \n",
       "10                    NaN   3/3/2023  Series F  United States   \n",
       "16                    NaN   3/2/2023  Acquired          India   \n",
       "18                    NaN   3/2/2023  Acquired  United States   \n",
       "57                    NaN  2/22/2023  Series C  United States   \n",
       "...                   ...        ...       ...            ...   \n",
       "2323                  NaN  3/24/2020  Series D  United States   \n",
       "2334                  NaN  3/23/2020  Series B  United States   \n",
       "2340                  NaN  3/20/2020  Series C  United States   \n",
       "2345                  NaN  3/19/2020  Series A         Israel   \n",
       "2347                  NaN  3/19/2020  Acquired  United States   \n",
       "\n",
       "      funds_raised_millions  \n",
       "9                     458.0  \n",
       "10                   1200.0  \n",
       "16                  12900.0  \n",
       "18                      NaN  \n",
       "57                    155.0  \n",
       "...                     ...  \n",
       "2323                  117.0  \n",
       "2334                  164.0  \n",
       "2340                  526.0  \n",
       "2345                   74.0  \n",
       "2347                    0.0  \n",
       "\n",
       "[361 rows x 9 columns]"
      ]
     },
     "execution_count": 74,
     "metadata": {},
     "output_type": "execute_result"
    }
   ],
   "source": [
    "df[df['total_laid_off'].isna() & (df['percentage_laid_off'].isna())]"
   ]
  },
  {
   "cell_type": "code",
   "execution_count": 75,
   "metadata": {},
   "outputs": [],
   "source": [
    "df = df.dropna(subset=['total_laid_off', 'percentage_laid_off'], how='all')\n"
   ]
  },
  {
   "cell_type": "code",
   "execution_count": 77,
   "metadata": {},
   "outputs": [
    {
     "data": {
      "application/vnd.microsoft.datawrangler.viewer.v0+json": {
       "columns": [
        {
         "name": "index",
         "rawType": "int64",
         "type": "integer"
        },
        {
         "name": "company",
         "rawType": "object",
         "type": "string"
        },
        {
         "name": "location",
         "rawType": "object",
         "type": "string"
        },
        {
         "name": "industry",
         "rawType": "object",
         "type": "string"
        },
        {
         "name": "total_laid_off",
         "rawType": "float64",
         "type": "float"
        },
        {
         "name": "percentage_laid_off",
         "rawType": "float64",
         "type": "float"
        },
        {
         "name": "date",
         "rawType": "object",
         "type": "string"
        },
        {
         "name": "stage",
         "rawType": "object",
         "type": "string"
        },
        {
         "name": "country",
         "rawType": "object",
         "type": "string"
        },
        {
         "name": "funds_raised_millions",
         "rawType": "float64",
         "type": "float"
        }
       ],
       "conversionMethod": "pd.DataFrame",
       "ref": "90146380-0c14-4cca-892c-821ed118e892",
       "rows": [
        [
         "2",
         "Alerzo",
         "Ibadan",
         "Retail",
         "400.0",
         null,
         "3/6/2023",
         "Series B",
         "Nigeria",
         "16.0"
        ],
        [
         "3",
         "UpGrad",
         "Mumbai",
         "Education",
         "120.0",
         null,
         "3/6/2023",
         "Unknown",
         "India",
         "631.0"
        ],
        [
         "6",
         "Lendi",
         "Sydney",
         "Real Estate",
         "100.0",
         null,
         "3/3/2023",
         "Unknown",
         "Australia",
         "59.0"
        ],
        [
         "7",
         "UserTesting",
         "SF Bay Area",
         "Marketing",
         "63.0",
         null,
         "3/3/2023",
         "Acquired",
         "United States",
         "152.0"
        ],
        [
         "8",
         "Airbnb",
         "SF Bay Area",
         "Travel",
         "30.0",
         null,
         "3/3/2023",
         "Post-IPO",
         "United States",
         "6400.0"
        ],
        [
         "12",
         "MasterClass",
         "SF Bay Area",
         "Education",
         "79.0",
         null,
         "3/2/2023",
         "Series E",
         "United States",
         "461.0"
        ],
        [
         "13",
         "Ambev Tech",
         "Blumenau",
         "Food",
         "50.0",
         null,
         "3/2/2023",
         "Acquired",
         "Brazil",
         null
        ],
        [
         "21",
         "Color Health",
         "SF Bay Area",
         "Healthcare",
         "300.0",
         null,
         "3/1/2023",
         "Series E",
         "United States",
         "482.0"
        ],
        [
         "24",
         "Yellow.ai",
         "SF Bay Area",
         "Support",
         "200.0",
         null,
         "3/1/2023",
         "Series C",
         "United States",
         "102.0"
        ],
        [
         "27",
         "Electronic Arts",
         "Baton Rouge",
         "Consumer",
         "200.0",
         null,
         "2/28/2023",
         "Post-IPO",
         "United States",
         "2.0"
        ],
        [
         "31",
         "Sono Motors",
         "Munich",
         "Transportation",
         "300.0",
         null,
         "2/27/2023",
         "Post-IPO",
         "Germany",
         "126.0"
        ],
        [
         "37",
         "BitSight",
         "Tel Aviv",
         "Security",
         "40.0",
         null,
         "2/26/2023",
         "Unknown",
         "Israel",
         "401.0"
        ],
        [
         "40",
         "SAP Labs",
         "Bengaluru",
         "Other",
         "300.0",
         null,
         "2/24/2023",
         "Subsidiary",
         "India",
         "1300.0"
        ],
        [
         "41",
         "Velodyne Lidar",
         "SF Bay Area",
         "Transportation",
         "220.0",
         null,
         "2/24/2023",
         "Acquired",
         "United States",
         "575.0"
        ],
        [
         "42",
         "Medallia",
         "SF Bay Area",
         "Support",
         "59.0",
         null,
         "2/24/2023",
         "Acquired",
         "United States",
         "325.0"
        ],
        [
         "43",
         "Eat Just",
         "SF Bay Area",
         "Food",
         "40.0",
         null,
         "2/24/2023",
         "Unknown",
         "United States",
         "465.0"
        ],
        [
         "44",
         "Lucira Health",
         "SF Bay Area",
         "Healthcare",
         "26.0",
         null,
         "2/24/2023",
         "Post-IPO",
         "United States",
         "132.0"
        ],
        [
         "45",
         "Stax",
         "Orlando",
         "Finance",
         "24.0",
         null,
         "2/24/2023",
         "Series D",
         "United States",
         "263.0"
        ],
        [
         "50",
         "EVgo",
         "Los Angeles",
         "Transportation",
         "40.0",
         null,
         "2/23/2023",
         "Post-IPO",
         "United States",
         "400.0"
        ],
        [
         "51",
         "StrongDM",
         "SF Bay Area",
         "Infrastructure",
         "40.0",
         null,
         "2/23/2023",
         "Series B",
         "United States",
         "76.0"
        ],
        [
         "56",
         "TaskUs",
         "San Antonio",
         "Support",
         "186.0",
         null,
         "2/22/2023",
         "Post-IPO",
         "United States",
         "279.0"
        ],
        [
         "62",
         "Crunchyroll",
         "Tokyo",
         "Media",
         "85.0",
         null,
         "2/21/2023",
         "Unknown",
         "Japan",
         "26.0"
        ],
        [
         "63",
         "Ethos Life",
         "SF Bay Area",
         "Finance",
         "50.0",
         null,
         "2/21/2023",
         "Series D",
         "United States",
         "406.0"
        ],
        [
         "64",
         "Bolt",
         "Lagos",
         "Transportation",
         "17.0",
         null,
         "2/21/2023",
         "Series F",
         "Nigeria",
         null
        ],
        [
         "73",
         "HP",
         "Tel Aviv",
         "Hardware",
         "100.0",
         null,
         "2/19/2023",
         "Post-IPO",
         "Israel",
         "4200.0"
        ],
        [
         "74",
         "Tencent",
         "Shenzen",
         "Consumer",
         "300.0",
         null,
         "2/17/2023",
         "Post-IPO",
         "China",
         "12600.0"
        ],
        [
         "75",
         "Evernote",
         "SF Bay Area",
         "Consumer",
         "129.0",
         null,
         "2/17/2023",
         "Acquired",
         "United States",
         "290.0"
        ],
        [
         "87",
         "Jellysmack",
         "Paris",
         "Media",
         "208.0",
         null,
         "2/15/2023",
         "Series C",
         "France",
         "22.0"
        ],
        [
         "90",
         "Betterment",
         "New York City",
         "Finance",
         "28.0",
         null,
         "2/15/2023",
         "Series F",
         "United States",
         "435.0"
        ],
        [
         "105",
         "PetLove",
         "Sao Paulo",
         "Retail",
         "94.0",
         null,
         "2/13/2023",
         "Series C",
         "Brazil",
         "225.0"
        ],
        [
         "107",
         "Collective Health",
         "SF Bay Area",
         "Healthcare",
         "54.0",
         null,
         "2/13/2023",
         "Series F",
         "United States",
         "719.0"
        ],
        [
         "108",
         "Magic Eden",
         "SF Bay Area",
         "Crypto",
         "22.0",
         null,
         "2/13/2023",
         "Series B",
         "United States",
         "170.0"
        ],
        [
         "115",
         "TikTok India",
         "Mumbai",
         "Consumer",
         "40.0",
         null,
         "2/10/2023",
         "Acquired",
         "India",
         "9400.0"
        ],
        [
         "150",
         "Catch.com.au",
         "Melbourne",
         "Retail",
         "100.0",
         null,
         "2/6/2023",
         "Acquired",
         "Australia",
         "80.0"
        ],
        [
         "151",
         "VinFast US",
         "Los Angeles",
         "Transportation",
         "80.0",
         null,
         "2/6/2023",
         "Subsidiary",
         "United States",
         null
        ],
        [
         "152",
         "Drift",
         "Boston",
         "Marketing",
         "59.0",
         null,
         "2/6/2023",
         "Acquired",
         "United States",
         "107.0"
        ],
        [
         "154",
         "Clari",
         "SF Bay Area",
         "Sales",
         "20.0",
         null,
         "2/6/2023",
         "Series F",
         "United States",
         "496.0"
        ],
        [
         "158",
         "Kyruus",
         "Boston",
         "Healthcare",
         "70.0",
         null,
         "2/5/2023",
         "Unknown",
         "United States",
         "183.0"
        ],
        [
         "160",
         "FarEye",
         "New Delhi",
         "Logistics",
         "90.0",
         null,
         "2/3/2023",
         "Series E",
         "India",
         "150.0"
        ],
        [
         "163",
         "Byju's",
         "Bengaluru",
         "Education",
         "1500.0",
         null,
         "2/2/2023",
         "Private Equity",
         "India",
         "5500.0"
        ],
        [
         "166",
         "Mindstrong",
         "SF Bay Area",
         "Healthcare",
         "127.0",
         null,
         "2/2/2023",
         "Series C",
         "United States",
         "160.0"
        ],
        [
         "169",
         "Getir",
         "New York City",
         "Food",
         "100.0",
         null,
         "2/2/2023",
         "Series E",
         "United States",
         "1800.0"
        ],
        [
         "171",
         "Bittrex",
         "Seattle",
         "Crypto",
         "80.0",
         null,
         "2/2/2023",
         "Unknown",
         "United States",
         null
        ],
        [
         "172",
         "Snowplow",
         "London",
         "Data",
         "40.0",
         null,
         "2/2/2023",
         "Series B",
         "United States",
         "55.0"
        ],
        [
         "173",
         "Articulate",
         "New York City",
         "Education",
         "38.0",
         null,
         "2/2/2023",
         "Series A",
         "United States",
         "1500.0"
        ],
        [
         "179",
         "Pinterest",
         "SF Bay Area",
         "Consumer",
         "150.0",
         null,
         "2/1/2023",
         "Post-IPO",
         "United States",
         "1500.0"
        ],
        [
         "181",
         "Cyren",
         "Washington D.C.",
         "Security",
         "121.0",
         null,
         "2/1/2023",
         "Post-IPO",
         "United States",
         "161.0"
        ],
        [
         "204",
         "Wefox",
         "Berlin",
         "Finance",
         "100.0",
         null,
         "1/31/2023",
         "Series D",
         "Germany",
         "1300.0"
        ],
        [
         "206",
         "Gokada",
         "Lagos",
         "Transportation",
         "54.0",
         null,
         "1/31/2023",
         "Unknown",
         "Nigeria",
         "12.0"
        ],
        [
         "213",
         "Groupon",
         "Chicago",
         "Retail",
         "500.0",
         null,
         "1/30/2023",
         "Post-IPO",
         "United States",
         "1400.0"
        ]
       ],
       "shape": {
        "columns": 9,
        "rows": 423
       }
      },
      "text/html": [
       "<div>\n",
       "<style scoped>\n",
       "    .dataframe tbody tr th:only-of-type {\n",
       "        vertical-align: middle;\n",
       "    }\n",
       "\n",
       "    .dataframe tbody tr th {\n",
       "        vertical-align: top;\n",
       "    }\n",
       "\n",
       "    .dataframe thead th {\n",
       "        text-align: right;\n",
       "    }\n",
       "</style>\n",
       "<table border=\"1\" class=\"dataframe\">\n",
       "  <thead>\n",
       "    <tr style=\"text-align: right;\">\n",
       "      <th></th>\n",
       "      <th>company</th>\n",
       "      <th>location</th>\n",
       "      <th>industry</th>\n",
       "      <th>total_laid_off</th>\n",
       "      <th>percentage_laid_off</th>\n",
       "      <th>date</th>\n",
       "      <th>stage</th>\n",
       "      <th>country</th>\n",
       "      <th>funds_raised_millions</th>\n",
       "    </tr>\n",
       "  </thead>\n",
       "  <tbody>\n",
       "    <tr>\n",
       "      <th>2</th>\n",
       "      <td>Alerzo</td>\n",
       "      <td>Ibadan</td>\n",
       "      <td>Retail</td>\n",
       "      <td>400.0</td>\n",
       "      <td>NaN</td>\n",
       "      <td>3/6/2023</td>\n",
       "      <td>Series B</td>\n",
       "      <td>Nigeria</td>\n",
       "      <td>16.0</td>\n",
       "    </tr>\n",
       "    <tr>\n",
       "      <th>3</th>\n",
       "      <td>UpGrad</td>\n",
       "      <td>Mumbai</td>\n",
       "      <td>Education</td>\n",
       "      <td>120.0</td>\n",
       "      <td>NaN</td>\n",
       "      <td>3/6/2023</td>\n",
       "      <td>Unknown</td>\n",
       "      <td>India</td>\n",
       "      <td>631.0</td>\n",
       "    </tr>\n",
       "    <tr>\n",
       "      <th>6</th>\n",
       "      <td>Lendi</td>\n",
       "      <td>Sydney</td>\n",
       "      <td>Real Estate</td>\n",
       "      <td>100.0</td>\n",
       "      <td>NaN</td>\n",
       "      <td>3/3/2023</td>\n",
       "      <td>Unknown</td>\n",
       "      <td>Australia</td>\n",
       "      <td>59.0</td>\n",
       "    </tr>\n",
       "    <tr>\n",
       "      <th>7</th>\n",
       "      <td>UserTesting</td>\n",
       "      <td>SF Bay Area</td>\n",
       "      <td>Marketing</td>\n",
       "      <td>63.0</td>\n",
       "      <td>NaN</td>\n",
       "      <td>3/3/2023</td>\n",
       "      <td>Acquired</td>\n",
       "      <td>United States</td>\n",
       "      <td>152.0</td>\n",
       "    </tr>\n",
       "    <tr>\n",
       "      <th>8</th>\n",
       "      <td>Airbnb</td>\n",
       "      <td>SF Bay Area</td>\n",
       "      <td>Travel</td>\n",
       "      <td>30.0</td>\n",
       "      <td>NaN</td>\n",
       "      <td>3/3/2023</td>\n",
       "      <td>Post-IPO</td>\n",
       "      <td>United States</td>\n",
       "      <td>6400.0</td>\n",
       "    </tr>\n",
       "    <tr>\n",
       "      <th>...</th>\n",
       "      <td>...</td>\n",
       "      <td>...</td>\n",
       "      <td>...</td>\n",
       "      <td>...</td>\n",
       "      <td>...</td>\n",
       "      <td>...</td>\n",
       "      <td>...</td>\n",
       "      <td>...</td>\n",
       "      <td>...</td>\n",
       "    </tr>\n",
       "    <tr>\n",
       "      <th>2336</th>\n",
       "      <td>Peek</td>\n",
       "      <td>Salt Lake City</td>\n",
       "      <td>Travel</td>\n",
       "      <td>45.0</td>\n",
       "      <td>NaN</td>\n",
       "      <td>3/20/2020</td>\n",
       "      <td>Series B</td>\n",
       "      <td>United States</td>\n",
       "      <td>39.0</td>\n",
       "    </tr>\n",
       "    <tr>\n",
       "      <th>2338</th>\n",
       "      <td>Yonder</td>\n",
       "      <td>Austin</td>\n",
       "      <td>Media</td>\n",
       "      <td>18.0</td>\n",
       "      <td>NaN</td>\n",
       "      <td>3/20/2020</td>\n",
       "      <td>Series A</td>\n",
       "      <td>United States</td>\n",
       "      <td>16.0</td>\n",
       "    </tr>\n",
       "    <tr>\n",
       "      <th>2341</th>\n",
       "      <td>Bounce</td>\n",
       "      <td>Bengaluru</td>\n",
       "      <td>Transportation</td>\n",
       "      <td>120.0</td>\n",
       "      <td>NaN</td>\n",
       "      <td>3/19/2020</td>\n",
       "      <td>Series D</td>\n",
       "      <td>India</td>\n",
       "      <td>214.0</td>\n",
       "    </tr>\n",
       "    <tr>\n",
       "      <th>2344</th>\n",
       "      <td>Lola</td>\n",
       "      <td>Boston</td>\n",
       "      <td>Travel</td>\n",
       "      <td>34.0</td>\n",
       "      <td>NaN</td>\n",
       "      <td>3/19/2020</td>\n",
       "      <td>Series C</td>\n",
       "      <td>United States</td>\n",
       "      <td>81.0</td>\n",
       "    </tr>\n",
       "    <tr>\n",
       "      <th>2355</th>\n",
       "      <td>EasyPost</td>\n",
       "      <td>Salt Lake City</td>\n",
       "      <td>Logistics</td>\n",
       "      <td>75.0</td>\n",
       "      <td>NaN</td>\n",
       "      <td>3/11/2020</td>\n",
       "      <td>Series A</td>\n",
       "      <td>United States</td>\n",
       "      <td>12.0</td>\n",
       "    </tr>\n",
       "  </tbody>\n",
       "</table>\n",
       "<p>423 rows × 9 columns</p>\n",
       "</div>"
      ],
      "text/plain": [
       "          company        location        industry  total_laid_off  \\\n",
       "2          Alerzo          Ibadan          Retail           400.0   \n",
       "3          UpGrad          Mumbai       Education           120.0   \n",
       "6           Lendi          Sydney     Real Estate           100.0   \n",
       "7     UserTesting     SF Bay Area       Marketing            63.0   \n",
       "8          Airbnb     SF Bay Area          Travel            30.0   \n",
       "...           ...             ...             ...             ...   \n",
       "2336         Peek  Salt Lake City          Travel            45.0   \n",
       "2338       Yonder          Austin           Media            18.0   \n",
       "2341       Bounce       Bengaluru  Transportation           120.0   \n",
       "2344         Lola          Boston          Travel            34.0   \n",
       "2355     EasyPost  Salt Lake City       Logistics            75.0   \n",
       "\n",
       "      percentage_laid_off       date     stage        country  \\\n",
       "2                     NaN   3/6/2023  Series B        Nigeria   \n",
       "3                     NaN   3/6/2023   Unknown          India   \n",
       "6                     NaN   3/3/2023   Unknown      Australia   \n",
       "7                     NaN   3/3/2023  Acquired  United States   \n",
       "8                     NaN   3/3/2023  Post-IPO  United States   \n",
       "...                   ...        ...       ...            ...   \n",
       "2336                  NaN  3/20/2020  Series B  United States   \n",
       "2338                  NaN  3/20/2020  Series A  United States   \n",
       "2341                  NaN  3/19/2020  Series D          India   \n",
       "2344                  NaN  3/19/2020  Series C  United States   \n",
       "2355                  NaN  3/11/2020  Series A  United States   \n",
       "\n",
       "      funds_raised_millions  \n",
       "2                      16.0  \n",
       "3                     631.0  \n",
       "6                      59.0  \n",
       "7                     152.0  \n",
       "8                    6400.0  \n",
       "...                     ...  \n",
       "2336                   39.0  \n",
       "2338                   16.0  \n",
       "2341                  214.0  \n",
       "2344                   81.0  \n",
       "2355                   12.0  \n",
       "\n",
       "[423 rows x 9 columns]"
      ]
     },
     "execution_count": 77,
     "metadata": {},
     "output_type": "execute_result"
    }
   ],
   "source": [
    "df[df['percentage_laid_off'].isna()]"
   ]
  },
  {
   "cell_type": "code",
   "execution_count": 84,
   "metadata": {},
   "outputs": [
    {
     "name": "stderr",
     "output_type": "stream",
     "text": [
      "C:\\Users\\PC\\AppData\\Local\\Temp\\ipykernel_228\\1705850665.py:1: SettingWithCopyWarning: \n",
      "A value is trying to be set on a copy of a slice from a DataFrame.\n",
      "Try using .loc[row_indexer,col_indexer] = value instead\n",
      "\n",
      "See the caveats in the documentation: https://pandas.pydata.org/pandas-docs/stable/user_guide/indexing.html#returning-a-view-versus-a-copy\n",
      "  df['date'] = pd.to_datetime(df['date'], errors='coerce')\n"
     ]
    }
   ],
   "source": [
    "df['date'] = pd.to_datetime(df['date'], errors='coerce')\n"
   ]
  }
 ],
 "metadata": {
  "kernelspec": {
   "display_name": "Python 3",
   "language": "python",
   "name": "python3"
  },
  "language_info": {
   "codemirror_mode": {
    "name": "ipython",
    "version": 3
   },
   "file_extension": ".py",
   "mimetype": "text/x-python",
   "name": "python",
   "nbconvert_exporter": "python",
   "pygments_lexer": "ipython3",
   "version": "3.12.1"
  }
 },
 "nbformat": 4,
 "nbformat_minor": 2
}
